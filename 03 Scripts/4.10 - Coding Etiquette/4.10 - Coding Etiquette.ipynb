{
 "cells": [
  {
   "cell_type": "markdown",
   "id": "e95845b9",
   "metadata": {},
   "source": [
    "# 4.10: Coding Etiquette"
   ]
  },
  {
   "cell_type": "markdown",
   "id": "a2cf208c",
   "metadata": {},
   "source": [
    "## This script includes the following points:\n",
    "\n",
    "1. Import the data sets\n",
    "2. Security Implications\n",
    "3. Customer Behavior by Geographic Area\n",
    "4. Low Activity Customers - Exclusion Flag\n",
    "5. Customer Profiling\n",
    "6. Distribution of Profiles - Visualization\n",
    "7. Customer-profile level by usage frequency and expenditure\n",
    "8. Customer Profile\n",
    "9. Export new data frame"
   ]
  },
  {
   "cell_type": "markdown",
   "id": "fd0fbe31-4473-439c-b9f4-8afa23fcc39a",
   "metadata": {},
   "source": [
    "# 01. Importing Data"
   ]
  },
  {
   "cell_type": "code",
   "execution_count": 1,
   "id": "a92b91f8-97a3-403c-9586-c78627ecfb08",
   "metadata": {},
   "outputs": [],
   "source": [
    "# Importing Libraries\n",
    "\n",
    "import pandas as pd\n",
    "import numpy as np\n",
    "import os \n",
    "import matplotlib.pyplot as plt\n",
    "import seaborn as sns\n",
    "import scipy"
   ]
  },
  {
   "cell_type": "code",
   "execution_count": 2,
   "id": "3cc38a0b-fccf-4cf2-acb3-98f2efd92ecb",
   "metadata": {},
   "outputs": [],
   "source": [
    "# defining path\n",
    "\n",
    "path = r'/Users/robson/Desktop/CareerFoundry/Data Immersion/Achivement 4/19-04-2024 Instacart Basket Analysis'"
   ]
  },
  {
   "cell_type": "code",
   "execution_count": 3,
   "id": "cb9e6df4-9942-4295-aab5-446f2d409d08",
   "metadata": {},
   "outputs": [],
   "source": [
    "#import dataframe\n",
    "\n",
    "df = pd.read_pickle(os.path.join(path, '02 Data', 'prepared_data', 'ords_prods_customer_merge.pkl'))"
   ]
  },
  {
   "cell_type": "code",
   "execution_count": 4,
   "id": "8af04230",
   "metadata": {},
   "outputs": [],
   "source": [
    "# import departments dataframe\n",
    "\n",
    "df_department = pd.read_csv(os.path.join(path,'02 Data','prepared_data','departments_wrangled.csv'), index_col = False)"
   ]
  },
  {
   "cell_type": "markdown",
   "id": "9140e998-16fb-4671-abc5-32dd3a5fa048",
   "metadata": {},
   "source": [
    "# 02. Security Implications"
   ]
  },
  {
   "cell_type": "code",
   "execution_count": 5,
   "id": "c5a2231b-4c65-4b14-b141-ccfd1d8b44c5",
   "metadata": {},
   "outputs": [
    {
     "data": {
      "text/plain": [
       "Index(['order_id', 'user_id', 'order_number', 'order_day_of_week',\n",
       "       'order_hour_of_day', 'days_since_prior_order', 'first_order',\n",
       "       'product_id', 'add_to_cart_order', 'reordered', 'product_name',\n",
       "       'aisle_id', 'department_id', 'prices', 'price_range_loc',\n",
       "       'busiest_days', 'busiest_period_of_day', 'max_order', 'loyalty_flag',\n",
       "       'avg_order', 'spending_flag', 'median_prior_order',\n",
       "       'order_frequency_flag', 'first_name', 'surname', 'gender', 'us_state',\n",
       "       'age', 'date_joined', 'n_dependants', 'marital_status', 'income',\n",
       "       '_merge'],\n",
       "      dtype='object')"
      ]
     },
     "execution_count": 5,
     "metadata": {},
     "output_type": "execute_result"
    }
   ],
   "source": [
    "# find any column which may have sensitive data \n",
    "\n",
    "df.columns"
   ]
  },
  {
   "cell_type": "markdown",
   "id": "51b9521d-cdc9-447c-a71c-b8027fa5f9f0",
   "metadata": {},
   "source": [
    "###### According to the columns above, the first_name and surname columns configure a PII data, since it is possible to track back to a costumer. Also, gender, age and income can be also considered PII data. \n"
   ]
  },
  {
   "cell_type": "code",
   "execution_count": 6,
   "id": "878dda47",
   "metadata": {},
   "outputs": [],
   "source": [
    "# first_name and surname columns configure PII as it allows to track back to the customer\n",
    "\n",
    "# since these columns has no use in this analysis, I will drop it\n",
    "\n",
    "df.drop(columns=['first_name','surname'], inplace= True)"
   ]
  },
  {
   "cell_type": "code",
   "execution_count": 7,
   "id": "63c58045",
   "metadata": {},
   "outputs": [
    {
     "data": {
      "text/plain": [
       "Index(['order_id', 'user_id', 'order_number', 'order_day_of_week',\n",
       "       'order_hour_of_day', 'days_since_prior_order', 'first_order',\n",
       "       'product_id', 'add_to_cart_order', 'reordered', 'product_name',\n",
       "       'aisle_id', 'department_id', 'prices', 'price_range_loc',\n",
       "       'busiest_days', 'busiest_period_of_day', 'max_order', 'loyalty_flag',\n",
       "       'avg_order', 'spending_flag', 'median_prior_order',\n",
       "       'order_frequency_flag', 'gender', 'us_state', 'age', 'date_joined',\n",
       "       'n_dependants', 'marital_status', 'income', '_merge'],\n",
       "      dtype='object')"
      ]
     },
     "execution_count": 7,
     "metadata": {},
     "output_type": "execute_result"
    }
   ],
   "source": [
    "# check if it was deleted \n",
    "\n",
    "df.columns"
   ]
  },
  {
   "cell_type": "markdown",
   "id": "1932979c-783d-41ca-82b9-fd6ab1531301",
   "metadata": {},
   "source": [
    "#### "
   ]
  },
  {
   "cell_type": "markdown",
   "id": "aa05c7fb-43ea-40e5-b086-5f7466eece19",
   "metadata": {},
   "source": [
    "# 03. Customer Behavior by Geographic Area"
   ]
  },
  {
   "cell_type": "code",
   "execution_count": 8,
   "id": "3ff80cf9-b85e-4bd2-897a-aeb4b47a9836",
   "metadata": {},
   "outputs": [
    {
     "data": {
      "text/plain": [
       "us_state\n",
       "Pennsylvania            667082\n",
       "California              659783\n",
       "Rhode Island            656913\n",
       "Georgia                 656389\n",
       "New Mexico              654494\n",
       "Arizona                 653964\n",
       "North Carolina          651900\n",
       "Oklahoma                651739\n",
       "Alaska                  648495\n",
       "Minnesota               647825\n",
       "Massachusetts           646358\n",
       "Wyoming                 644255\n",
       "Virginia                641421\n",
       "Missouri                640732\n",
       "Texas                   640394\n",
       "Colorado                639280\n",
       "Maine                   638583\n",
       "North Dakota            638491\n",
       "Alabama                 638003\n",
       "Kansas                  637538\n",
       "Louisiana               637482\n",
       "Delaware                637024\n",
       "South Carolina          636754\n",
       "Oregon                  636425\n",
       "Arkansas                636144\n",
       "Nevada                  636139\n",
       "New York                635983\n",
       "Montana                 635265\n",
       "South Dakota            633772\n",
       "Illinois                633024\n",
       "Hawaii                  632901\n",
       "Washington              632852\n",
       "Mississippi             632675\n",
       "Kentucky                632490\n",
       "Michigan                630928\n",
       "Florida                 629027\n",
       "Ohio                    628319\n",
       "Wisconsin               628108\n",
       "New Jersey              627692\n",
       "Indiana                 627282\n",
       "Maryland                626579\n",
       "Nebraska                625813\n",
       "Iowa                    625493\n",
       "Connecticut             623022\n",
       "Tennessee               617873\n",
       "New Hampshire           615378\n",
       "District of Columbia    613695\n",
       "West Virginia           612296\n",
       "Utah                    611941\n",
       "Vermont                 611725\n",
       "Idaho                   607119\n",
       "Name: count, dtype: int64"
      ]
     },
     "execution_count": 8,
     "metadata": {},
     "output_type": "execute_result"
    }
   ],
   "source": [
    "# check the format which each state is in the column (full name or abbreviation)\n",
    "\n",
    "df['us_state'].value_counts()"
   ]
  },
  {
   "cell_type": "markdown",
   "id": "82567cda-1b51-4d73-8bfd-a80e66dcb1d9",
   "metadata": {},
   "source": [
    "## 3.1. - If Statement with Loc function"
   ]
  },
  {
   "cell_type": "code",
   "execution_count": 9,
   "id": "7b5e3483-293f-4ecd-9c53-06bca23b834e",
   "metadata": {},
   "outputs": [],
   "source": [
    "# Create a loc statement to define the  Northeast region\n",
    "\n",
    "df.loc[df['us_state'].isin(['Connecticut','Maine','Massachusetts','New Hampshire','New Jersey','New York','Pennsylvania','Rhode Island','Vermont']), 'region'] = 'Northeast'"
   ]
  },
  {
   "cell_type": "code",
   "execution_count": 10,
   "id": "421038b8-91f7-477a-8b58-c15cc7d9aeaa",
   "metadata": {},
   "outputs": [],
   "source": [
    "# Create a loc statement to define the  Midwest region\n",
    "\n",
    "df.loc[df['us_state'].isin(['Illinois', 'Indiana', 'Iowa', 'Kansas', 'Michigan', 'Minnesota', 'Missouri', 'Nebraska', 'North Dakota', 'Ohio', 'South Dakota', 'Wisconsin']), 'region'] = 'Midwest'"
   ]
  },
  {
   "cell_type": "code",
   "execution_count": 11,
   "id": "8d123db7-8525-4f4c-af9d-1b0afa3de17b",
   "metadata": {},
   "outputs": [],
   "source": [
    "# Create a loc statement to define the  South region\n",
    "\n",
    "df.loc[df['us_state'].isin(['Alabama', 'Arkansas', 'Delaware', 'District of Columbia', 'Florida', 'Georgia', 'Kentucky', 'Louisiana', 'Maryland', 'Mississippi', 'North Carolina', 'Oklahoma', 'South Carolina', 'Tennessee', 'Texas', 'Virginia', 'West Virginia']), 'region'] = 'South'"
   ]
  },
  {
   "cell_type": "code",
   "execution_count": 12,
   "id": "303a0869-52a8-45b6-aab7-06596aae6c13",
   "metadata": {},
   "outputs": [],
   "source": [
    "# Create a loc statement to define the  West region\n",
    "\n",
    "df.loc[df['us_state'].isin(['Alaska', 'Arizona', 'California', 'Colorado', 'Hawaii', 'Idaho', 'Montana', 'Nevada', 'New Mexico', 'Oregon', 'Utah', 'Washington', 'Wyoming']), 'region'] = 'West'"
   ]
  },
  {
   "cell_type": "code",
   "execution_count": 13,
   "id": "b9963da7-5f04-48be-be22-be2670cee571",
   "metadata": {},
   "outputs": [
    {
     "data": {
      "text/plain": [
       "region\n",
       "South        10791885\n",
       "West          8292913\n",
       "Midwest       7597325\n",
       "Northeast     5722736\n",
       "Name: count, dtype: int64"
      ]
     },
     "execution_count": 13,
     "metadata": {},
     "output_type": "execute_result"
    }
   ],
   "source": [
    "# check if the values match\n",
    "\n",
    "df['region'].value_counts(dropna = False)"
   ]
  },
  {
   "cell_type": "code",
   "execution_count": 14,
   "id": "9ef9e753-14de-4467-a3cd-2887714a9c2c",
   "metadata": {},
   "outputs": [
    {
     "data": {
      "text/plain": [
       "<bound method NDFrame.describe of 0             Alabama\n",
       "1             Alabama\n",
       "2             Alabama\n",
       "3             Alabama\n",
       "4             Alabama\n",
       "              ...    \n",
       "32404854       Hawaii\n",
       "32404855    Tennessee\n",
       "32404856    Tennessee\n",
       "32404857    Tennessee\n",
       "32404858    Tennessee\n",
       "Name: us_state, Length: 32404859, dtype: object>"
      ]
     },
     "execution_count": 14,
     "metadata": {},
     "output_type": "execute_result"
    }
   ],
   "source": [
    "# check if the values match\n",
    "\n",
    "df['us_state'].describe"
   ]
  },
  {
   "cell_type": "code",
   "execution_count": 15,
   "id": "1e8a49d8-2091-4098-94ba-948efe76a849",
   "metadata": {},
   "outputs": [
    {
     "data": {
      "text/plain": [
       "<bound method NDFrame.describe of 0           South\n",
       "1           South\n",
       "2           South\n",
       "3           South\n",
       "4           South\n",
       "            ...  \n",
       "32404854     West\n",
       "32404855    South\n",
       "32404856    South\n",
       "32404857    South\n",
       "32404858    South\n",
       "Name: region, Length: 32404859, dtype: object>"
      ]
     },
     "execution_count": 15,
     "metadata": {},
     "output_type": "execute_result"
    }
   ],
   "source": [
    "# check if the values match\n",
    "\n",
    "df['region'].describe"
   ]
  },
  {
   "cell_type": "markdown",
   "id": "bab49bc5-4833-455b-a6bc-136ad87b194d",
   "metadata": {},
   "source": [
    "###### I will use the if statement with loc in this case to save RAM, but I add below an if statement with user defined functions"
   ]
  },
  {
   "cell_type": "markdown",
   "id": "8b634236-5009-4fc5-8fb5-0f674f917009",
   "metadata": {
    "jp-MarkdownHeadingCollapsed": true
   },
   "source": [
    "## 3.2 - If Statement"
   ]
  },
  {
   "cell_type": "code",
   "execution_count": 16,
   "id": "15e76fb1-0c9c-47ba-bcf7-7d5e3c5b2f0d",
   "metadata": {
    "scrolled": true
   },
   "outputs": [],
   "source": [
    "# create a function that return the region a state belong to in the US - I am going to use the loc function to save some RAM\n",
    "\n",
    "#def region_us(row):\n",
    "  \n",
    "  #if row['us_state'] in ['Connecticut','Maine','Massachusetts','New Hampshire','New Jersey','New York','Pennsylvania','Rhode Island','Vermont']:\n",
    "    #return 'Northeast'\n",
    "  #elif row['us_state'] in ['Illinois', 'Indiana', 'Iowa', 'Kansas', 'Michigan', 'Minnesota', 'Missouri', 'Nebraska', 'North Dakota', 'Ohio', 'South Dakota', 'Wisconsin']:\n",
    "    #return 'Midwest'\n",
    "  #elif row['us_state'] in ['Alabama', 'Arkansas', 'Delaware', 'District of Columbia', 'Florida', 'Georgia', 'Kentucky', 'Louisiana', 'Maryland', 'Mississippi', 'North Carolina', 'Oklahoma', 'South Carolina', 'Tennessee', 'Texas', 'Virginia', 'West Virginia']:\n",
    "    #return 'South'\n",
    "  #elif row['us_state'] in ['Alaska', 'Arizona', 'California', 'Colorado', 'Hawaii', 'Idaho', 'Montana', 'Nevada', 'New Mexico', 'Oregon', 'Utah', 'Washington', 'Wyoming']:\n",
    "    #return 'West'\n",
    "  #else: return np.nan"
   ]
  },
  {
   "cell_type": "code",
   "execution_count": 17,
   "id": "d3c5500e-59f6-429a-a500-a431bf727179",
   "metadata": {},
   "outputs": [],
   "source": [
    "# apply the function above and create a column 'region'\n",
    "\n",
    "#df['region'] = df.apply(region_us, axis=1)"
   ]
  },
  {
   "cell_type": "code",
   "execution_count": 18,
   "id": "346390e2-5b6a-4b0b-b8d4-b41cb76ac231",
   "metadata": {},
   "outputs": [],
   "source": [
    "# check if the values match\n",
    "\n",
    "#df['region'].value_counts(dropna = False)"
   ]
  },
  {
   "cell_type": "code",
   "execution_count": 19,
   "id": "ccacee14-334e-43a9-9220-d169fdf0ba08",
   "metadata": {},
   "outputs": [],
   "source": [
    "# check if the values match\n",
    "\n",
    "#df['us_state'].info()"
   ]
  },
  {
   "cell_type": "code",
   "execution_count": 20,
   "id": "e697a941-3d2f-4b55-8a1e-28bba3609c69",
   "metadata": {},
   "outputs": [],
   "source": [
    "# check if the values match\n",
    "\n",
    "#df['region'].info()"
   ]
  },
  {
   "cell_type": "markdown",
   "id": "17aa7a7d-787f-47dc-b54c-a89889f86d12",
   "metadata": {},
   "source": [
    "## 3.3 - Spending Habits by State"
   ]
  },
  {
   "cell_type": "code",
   "execution_count": 21,
   "id": "c1251605-8910-426a-8409-d7a875add9b1",
   "metadata": {},
   "outputs": [],
   "source": [
    "# Defining Crosstab for spending flag by region\n",
    "\n",
    "df_spending_habits_region = pd.crosstab(df['region'], df['spending_flag'], dropna = False).sort_values(by = 'High Spender', ascending = False)"
   ]
  },
  {
   "cell_type": "code",
   "execution_count": 22,
   "id": "e8919f13-22c2-49da-a78d-8684a23f9ea4",
   "metadata": {},
   "outputs": [
    {
     "data": {
      "text/html": [
       "<div>\n",
       "<style scoped>\n",
       "    .dataframe tbody tr th:only-of-type {\n",
       "        vertical-align: middle;\n",
       "    }\n",
       "\n",
       "    .dataframe tbody tr th {\n",
       "        vertical-align: top;\n",
       "    }\n",
       "\n",
       "    .dataframe thead th {\n",
       "        text-align: right;\n",
       "    }\n",
       "</style>\n",
       "<table border=\"1\" class=\"dataframe\">\n",
       "  <thead>\n",
       "    <tr style=\"text-align: right;\">\n",
       "      <th>spending_flag</th>\n",
       "      <th>High Spender</th>\n",
       "      <th>Low Spender</th>\n",
       "    </tr>\n",
       "    <tr>\n",
       "      <th>region</th>\n",
       "      <th></th>\n",
       "      <th></th>\n",
       "    </tr>\n",
       "  </thead>\n",
       "  <tbody>\n",
       "    <tr>\n",
       "      <th>South</th>\n",
       "      <td>40579</td>\n",
       "      <td>10751306</td>\n",
       "    </tr>\n",
       "    <tr>\n",
       "      <th>West</th>\n",
       "      <td>31242</td>\n",
       "      <td>8261671</td>\n",
       "    </tr>\n",
       "    <tr>\n",
       "      <th>Midwest</th>\n",
       "      <td>29265</td>\n",
       "      <td>7568060</td>\n",
       "    </tr>\n",
       "    <tr>\n",
       "      <th>Northeast</th>\n",
       "      <td>18642</td>\n",
       "      <td>5704094</td>\n",
       "    </tr>\n",
       "  </tbody>\n",
       "</table>\n",
       "</div>"
      ],
      "text/plain": [
       "spending_flag  High Spender  Low Spender\n",
       "region                                  \n",
       "South                 40579     10751306\n",
       "West                  31242      8261671\n",
       "Midwest               29265      7568060\n",
       "Northeast             18642      5704094"
      ]
     },
     "execution_count": 22,
     "metadata": {},
     "output_type": "execute_result"
    }
   ],
   "source": [
    "# Check if crosstab was sucessfuly created\n",
    "\n",
    "df_spending_habits_region"
   ]
  },
  {
   "cell_type": "code",
   "execution_count": 23,
   "id": "60cbc498",
   "metadata": {},
   "outputs": [
    {
     "data": {
      "text/plain": [
       "Text(0, 0.5, 'Frequency')"
      ]
     },
     "execution_count": 23,
     "metadata": {},
     "output_type": "execute_result"
    },
    {
     "data": {
      "image/png": "[encoded data removed]",
      "text/plain": [
       "<Figure size 640x480 with 1 Axes>"
      ]
     },
     "metadata": {},
     "output_type": "display_data"
    }
   ],
   "source": [
    "# create a stacked bar chart by Region\n",
    "\n",
    "bar_spending_habits_region = df_spending_habits_region.plot.bar( stacked = True)\n",
    "\n",
    "plt.title('Spending Habits by Region')\n",
    "plt.xlabel('Region')\n",
    "plt.ylabel('Frequency')"
   ]
  },
  {
   "cell_type": "code",
   "execution_count": 24,
   "id": "2f51d4b7",
   "metadata": {},
   "outputs": [],
   "source": [
    "# save figure\n",
    "\n",
    "bar_spending_habits_region.figure.savefig(os.path.join(path, '04 Analysis','Visualizations', '4.10', 'bar_spending_habits_region.png'))"
   ]
  },
  {
   "cell_type": "markdown",
   "id": "1f99bbd3",
   "metadata": {},
   "source": [
    "###### The region that present the highest number of High Spender and Low Spender, follow the same order, which is: South, West, Midwest and Northeast. This shows that both regions, South and West, have the highest representativity in the instacart business and, maybe, ads for the Northeast and Midwest region could increase their share in the future. \n"
   ]
  },
  {
   "cell_type": "markdown",
   "id": "2f913282-af41-421c-bc61-bda2b1f7c9cb",
   "metadata": {},
   "source": [
    "# 04. Exclusion Flag - Low Activity Customers"
   ]
  },
  {
   "cell_type": "code",
   "execution_count": 25,
   "id": "c84e04bb-e49e-4288-8cf4-c48489027a4a",
   "metadata": {},
   "outputs": [],
   "source": [
    "# create an exclusion flag based on customer's activity - Low Activity Customers\n",
    "\n",
    "df.loc[(df['max_order'] < 5), 'exclusion_flag'] = 'Low Activity Customer'"
   ]
  },
  {
   "cell_type": "code",
   "execution_count": 26,
   "id": "57de9d2f-dcc9-41b1-afd8-8bb6165d7579",
   "metadata": {},
   "outputs": [],
   "source": [
    "# create an exclusion flag based on customer's activity - Active Customers\n",
    "\n",
    "df.loc[(df['max_order'] >= 5), 'exclusion_flag'] = 'Active Customer'"
   ]
  },
  {
   "cell_type": "code",
   "execution_count": 27,
   "id": "0f7fd18c-499d-4b94-a4d9-942235b6adf6",
   "metadata": {},
   "outputs": [
    {
     "data": {
      "text/plain": [
       "exclusion_flag\n",
       "Active Customer          30964564\n",
       "Low Activity Customer     1440295\n",
       "Name: count, dtype: int64"
      ]
     },
     "execution_count": 27,
     "metadata": {},
     "output_type": "execute_result"
    }
   ],
   "source": [
    "# Number of Low Activity Customer \n",
    "\n",
    "df['exclusion_flag'].value_counts()"
   ]
  },
  {
   "cell_type": "code",
   "execution_count": 28,
   "id": "b62519ac-7435-47d2-baa6-6942a38ed609",
   "metadata": {},
   "outputs": [],
   "source": [
    "# Drop all the Low Activity Customers\n",
    "\n",
    "filtered_df = df[df['exclusion_flag'] == 'Active Customer']\n"
   ]
  },
  {
   "cell_type": "code",
   "execution_count": 29,
   "id": "26ae4719",
   "metadata": {},
   "outputs": [
    {
     "data": {
      "text/plain": [
       "count    3.096456e+07\n",
       "mean     3.442569e+01\n",
       "std      2.489504e+01\n",
       "min      5.000000e+00\n",
       "25%      1.400000e+01\n",
       "50%      2.800000e+01\n",
       "75%      4.800000e+01\n",
       "max      9.900000e+01\n",
       "Name: max_order, dtype: float64"
      ]
     },
     "execution_count": 29,
     "metadata": {},
     "output_type": "execute_result"
    }
   ],
   "source": [
    "# Check if the filtering it was successful \n",
    "\n",
    "filtered_df['max_order'].describe()"
   ]
  },
  {
   "cell_type": "code",
   "execution_count": 30,
   "id": "68940f2d",
   "metadata": {},
   "outputs": [],
   "source": [
    "# Export filtered dataframe \n",
    "\n",
    "filtered_df.to_pickle(os.path.join(path, '02 Data','prepared_data','active_customers_df.pkl'))"
   ]
  },
  {
   "cell_type": "markdown",
   "id": "f354d3e5-f39b-42cc-940b-8150f41aed38",
   "metadata": {},
   "source": [
    "# 05. Customer Profiling"
   ]
  },
  {
   "cell_type": "markdown",
   "id": "25fc526b",
   "metadata": {},
   "source": [
    "## 5.1 - By Age"
   ]
  },
  {
   "cell_type": "code",
   "execution_count": 31,
   "id": "c1d0ced6",
   "metadata": {},
   "outputs": [
    {
     "data": {
      "text/plain": [
       "count    3.240486e+07\n",
       "mean     4.946527e+01\n",
       "std      1.848558e+01\n",
       "min      1.800000e+01\n",
       "25%      3.300000e+01\n",
       "50%      4.900000e+01\n",
       "75%      6.500000e+01\n",
       "max      8.100000e+01\n",
       "Name: age, dtype: float64"
      ]
     },
     "execution_count": 31,
     "metadata": {},
     "output_type": "execute_result"
    }
   ],
   "source": [
    "# Check the information regarding income of all clients\n",
    "\n",
    "df['age'].describe()"
   ]
  },
  {
   "cell_type": "code",
   "execution_count": 32,
   "id": "f9e6f369",
   "metadata": {},
   "outputs": [],
   "source": [
    "# create a customer profiling for young adult \n",
    "\n",
    "df.loc[(df['age'] >= 18) & (df['age'] <= 39), 'age_classification'] = 'Young Adult'"
   ]
  },
  {
   "cell_type": "code",
   "execution_count": 33,
   "id": "2d9a26ef",
   "metadata": {},
   "outputs": [],
   "source": [
    "# create a customer profiling for adult \n",
    "\n",
    "df.loc[(df['age'] >= 40) & (df['age'] <= 59), 'age_classification'] = 'Middle Age Adult'"
   ]
  },
  {
   "cell_type": "code",
   "execution_count": 34,
   "id": "37c4798b",
   "metadata": {},
   "outputs": [],
   "source": [
    "# create a customer profiling for middle age \n",
    "\n",
    "df.loc[(df['age'] >= 60), 'age_classification'] = 'Senior'"
   ]
  },
  {
   "cell_type": "code",
   "execution_count": 35,
   "id": "2b898150",
   "metadata": {},
   "outputs": [
    {
     "data": {
      "text/plain": [
       "age_classification\n",
       "Young Adult         11164192\n",
       "Senior              11067255\n",
       "Middle Age Adult    10173412\n",
       "Name: count, dtype: int64"
      ]
     },
     "execution_count": 35,
     "metadata": {},
     "output_type": "execute_result"
    }
   ],
   "source": [
    "# check if the column englobe all the clients\n",
    "\n",
    "df['age_classification'].value_counts(dropna = False)"
   ]
  },
  {
   "cell_type": "markdown",
   "id": "cc58e266",
   "metadata": {},
   "source": [
    "## 5.2 - By Income"
   ]
  },
  {
   "cell_type": "code",
   "execution_count": 36,
   "id": "2fcaebaa-792e-4831-ba73-f84800a7520b",
   "metadata": {},
   "outputs": [
    {
     "data": {
      "text/plain": [
       "count    3.240486e+07\n",
       "mean     9.943773e+04\n",
       "std      4.305727e+04\n",
       "min      2.590300e+04\n",
       "25%      6.700400e+04\n",
       "50%      9.661800e+04\n",
       "75%      1.279120e+05\n",
       "max      5.939010e+05\n",
       "Name: income, dtype: float64"
      ]
     },
     "execution_count": 36,
     "metadata": {},
     "output_type": "execute_result"
    }
   ],
   "source": [
    "# Check the information regarding income of all clients\n",
    "\n",
    "df['income'].describe()"
   ]
  },
  {
   "cell_type": "code",
   "execution_count": 37,
   "id": "180e3310-4d38-431c-bb29-359bde4eccb8",
   "metadata": {},
   "outputs": [],
   "source": [
    "# create a customer profiling for young low income\n",
    "\n",
    "df.loc[(df['income'] >= 25903) & (df['income'] < 67004), 'income_classification'] = 'Low Income'"
   ]
  },
  {
   "cell_type": "code",
   "execution_count": 38,
   "id": "a2a40443",
   "metadata": {},
   "outputs": [],
   "source": [
    "# create a customer profiling for young middle income\n",
    "\n",
    "df.loc[(df['income'] >= 67004) & (df['income'] < 96618), 'income_classification'] = 'Middle Income'"
   ]
  },
  {
   "cell_type": "code",
   "execution_count": 39,
   "id": "33e5bb37",
   "metadata": {},
   "outputs": [],
   "source": [
    "# create a customer profiling for young upper-middle income\n",
    "\n",
    "df.loc[(df['income'] >= 96618) & (df['income'] < 127912), 'income_classification'] = 'Upper Middle Income'"
   ]
  },
  {
   "cell_type": "code",
   "execution_count": 40,
   "id": "2f7a872f",
   "metadata": {},
   "outputs": [],
   "source": [
    "# create a customer profiling for young age upper income\n",
    "\n",
    "df.loc[(df['income'] >= 127912), 'income_classification'] = 'High Income'"
   ]
  },
  {
   "cell_type": "code",
   "execution_count": 41,
   "id": "7c0cadfd-29ae-4b38-9903-bb361f94d617",
   "metadata": {},
   "outputs": [
    {
     "data": {
      "text/plain": [
       "income_classification\n",
       "High Income            8101288\n",
       "Low Income             8101214\n",
       "Middle Income          8101207\n",
       "Upper Middle Income    8101150\n",
       "Name: count, dtype: int64"
      ]
     },
     "execution_count": 41,
     "metadata": {},
     "output_type": "execute_result"
    }
   ],
   "source": [
    "# check if the column englobe all the clients\n",
    "\n",
    "df['income_classification'].value_counts(dropna = False)"
   ]
  },
  {
   "cell_type": "code",
   "execution_count": 42,
   "id": "723922c6",
   "metadata": {},
   "outputs": [
    {
     "data": {
      "text/plain": [
       "<bound method Series.info of 0           Low Income\n",
       "1           Low Income\n",
       "2           Low Income\n",
       "3           Low Income\n",
       "4           Low Income\n",
       "               ...    \n",
       "32404854    Low Income\n",
       "32404855    Low Income\n",
       "32404856    Low Income\n",
       "32404857    Low Income\n",
       "32404858    Low Income\n",
       "Name: income_classification, Length: 32404859, dtype: object>"
      ]
     },
     "execution_count": 42,
     "metadata": {},
     "output_type": "execute_result"
    }
   ],
   "source": [
    "# check if the column englobe all the clients\n",
    "\n",
    "df['income_classification'].info"
   ]
  },
  {
   "cell_type": "markdown",
   "id": "25df8066",
   "metadata": {},
   "source": [
    "## 5.3 - By Age and Income"
   ]
  },
  {
   "cell_type": "code",
   "execution_count": 43,
   "id": "806cb976",
   "metadata": {},
   "outputs": [],
   "source": [
    "# create a customer profiling for young low income\n",
    "\n",
    "df.loc[(df['age'] >= 18) & (df['age']<=39) & (df['income'] >= 25903) & (df['income'] < 67004), 'customer_profiling'] = 'Young Adult - Low Income'"
   ]
  },
  {
   "cell_type": "code",
   "execution_count": 44,
   "id": "8af5d3c5",
   "metadata": {},
   "outputs": [],
   "source": [
    "# create a customer profiling for young middle income\n",
    "\n",
    "df.loc[(df['age'] >= 18) & (df['age']<=39) & (df['income'] >= 67004) & (df['income'] < 96618), 'customer_profiling'] = 'Young Adult - Middle Income'"
   ]
  },
  {
   "cell_type": "code",
   "execution_count": 45,
   "id": "02b229ed",
   "metadata": {},
   "outputs": [],
   "source": [
    "# create a customer profiling for young upper-middle income\n",
    "\n",
    "df.loc[(df['age'] >= 18) & (df['age']<=39) & (df['income'] >= 96618) & (df['income'] < 127912), 'customer_profiling'] = 'Young Adult - Upper Middle Income'"
   ]
  },
  {
   "cell_type": "code",
   "execution_count": 46,
   "id": "320a3f15",
   "metadata": {},
   "outputs": [],
   "source": [
    "# create a customer profiling for young age upper income\n",
    "\n",
    "df.loc[(df['age'] >= 18) & (df['age']<=39)& (df['income'] >= 127912), 'customer_profiling'] = 'Young Adult - High Income'"
   ]
  },
  {
   "cell_type": "code",
   "execution_count": 47,
   "id": "600cf745",
   "metadata": {},
   "outputs": [],
   "source": [
    "# create a customer profiling for middle age low income\n",
    "\n",
    "df.loc[(df['age'] >= 40) & (df['age']<= 59) & (df['income'] >= 25903) & (df['income'] < 67004), 'customer_profiling'] = 'Middle Age Adult - Low Income'"
   ]
  },
  {
   "cell_type": "code",
   "execution_count": 48,
   "id": "4b111e6d",
   "metadata": {},
   "outputs": [],
   "source": [
    "# create a customer profiling for middle age middle income\n",
    "\n",
    "df.loc[(df['age'] >= 40) & (df['age']<= 59) & (df['income'] >= 67004) & (df['income'] < 96618), 'customer_profiling'] = 'Middle Age Adult - Middle Income'"
   ]
  },
  {
   "cell_type": "code",
   "execution_count": 49,
   "id": "ff80c068",
   "metadata": {},
   "outputs": [],
   "source": [
    "# create a customer profiling for middle age upper-middle income\n",
    "\n",
    "df.loc[(df['age'] >= 40) & (df['age']<= 59) & (df['income'] >= 96618) & (df['income'] < 127912), 'customer_profiling'] = 'Middle Age Adult - Upper Middle Income'"
   ]
  },
  {
   "cell_type": "code",
   "execution_count": 50,
   "id": "3adfce5b",
   "metadata": {},
   "outputs": [],
   "source": [
    "# create a customer profiling for middle age upper income\n",
    "\n",
    "df.loc[(df['age'] >= 40) & (df['age']<= 59) & (df['income'] >= 127912), 'customer_profiling'] = 'Middle Age Adult - High Income'"
   ]
  },
  {
   "cell_type": "code",
   "execution_count": 51,
   "id": "d51f740a",
   "metadata": {},
   "outputs": [],
   "source": [
    "# create a customer profiling for senior age low income\n",
    "\n",
    "df.loc[(df['age'] >= 60) & (df['income'] >= 25903) & (df['income'] < 67004), 'customer_profiling'] = 'Senior - Low Income'"
   ]
  },
  {
   "cell_type": "code",
   "execution_count": 52,
   "id": "54d6892b",
   "metadata": {},
   "outputs": [],
   "source": [
    "# create a customer profiling for senior age middle income\n",
    "\n",
    "df.loc[(df['age'] >= 60) & (df['income'] >= 67004) & (df['income'] < 96618), 'customer_profiling'] = 'Senior - Middle Income'"
   ]
  },
  {
   "cell_type": "code",
   "execution_count": 53,
   "id": "f43596c3",
   "metadata": {},
   "outputs": [],
   "source": [
    "# create a customer profiling for senior age upper-middle income\n",
    "\n",
    "df.loc[(df['age'] >= 60) & (df['income'] >= 96618) & (df['income'] < 127912), 'customer_profiling'] = 'Senior - Upper Middle Income'"
   ]
  },
  {
   "cell_type": "code",
   "execution_count": 54,
   "id": "19676f20",
   "metadata": {},
   "outputs": [],
   "source": [
    "# create a customer profiling for senior age upper income\n",
    "\n",
    "df.loc[(df['age'] >= 60) & (df['income'] >= 127912), 'customer_profiling'] = 'Senior - High Income'"
   ]
  },
  {
   "cell_type": "code",
   "execution_count": 55,
   "id": "a922b022",
   "metadata": {},
   "outputs": [
    {
     "data": {
      "text/plain": [
       "customer_profiling\n",
       "Young Adult - Middle Income               5144420\n",
       "Young Adult - Low Income                  5139771\n",
       "Senior - High Income                      4254283\n",
       "Senior - Upper Middle Income              3887289\n",
       "Middle Age Adult - High Income            3720813\n",
       "Middle Age Adult - Upper Middle Income    3460052\n",
       "Middle Age Adult - Low Income             1515664\n",
       "Senior - Middle Income                    1479904\n",
       "Middle Age Adult - Middle Income          1476883\n",
       "Senior - Low Income                       1445779\n",
       "Young Adult - Upper Middle Income          753809\n",
       "Young Adult - High Income                  126192\n",
       "Name: count, dtype: int64"
      ]
     },
     "execution_count": 55,
     "metadata": {},
     "output_type": "execute_result"
    }
   ],
   "source": [
    "# check frequency\n",
    "\n",
    "df['customer_profiling'].value_counts()"
   ]
  },
  {
   "cell_type": "markdown",
   "id": "e231b5f6",
   "metadata": {},
   "source": [
    "## 5.4 - Customer Profile and Number of Dependants"
   ]
  },
  {
   "cell_type": "code",
   "execution_count": 56,
   "id": "941dc216",
   "metadata": {},
   "outputs": [],
   "source": [
    "# Number of Dependants by Income\n",
    "\n",
    "df_ic_nd = pd.crosstab(df['income_classification'], df['n_dependants'], dropna = False)"
   ]
  },
  {
   "cell_type": "code",
   "execution_count": 57,
   "id": "75e7b2e8",
   "metadata": {},
   "outputs": [
    {
     "data": {
      "text/html": [
       "<div>\n",
       "<style scoped>\n",
       "    .dataframe tbody tr th:only-of-type {\n",
       "        vertical-align: middle;\n",
       "    }\n",
       "\n",
       "    .dataframe tbody tr th {\n",
       "        vertical-align: top;\n",
       "    }\n",
       "\n",
       "    .dataframe thead th {\n",
       "        text-align: right;\n",
       "    }\n",
       "</style>\n",
       "<table border=\"1\" class=\"dataframe\">\n",
       "  <thead>\n",
       "    <tr style=\"text-align: right;\">\n",
       "      <th>n_dependants</th>\n",
       "      <th>0</th>\n",
       "      <th>1</th>\n",
       "      <th>2</th>\n",
       "      <th>3</th>\n",
       "    </tr>\n",
       "    <tr>\n",
       "      <th>income_classification</th>\n",
       "      <th></th>\n",
       "      <th></th>\n",
       "      <th></th>\n",
       "      <th></th>\n",
       "    </tr>\n",
       "  </thead>\n",
       "  <tbody>\n",
       "    <tr>\n",
       "      <th>High Income</th>\n",
       "      <td>2033354</td>\n",
       "      <td>2006338</td>\n",
       "      <td>2023123</td>\n",
       "      <td>2038473</td>\n",
       "    </tr>\n",
       "    <tr>\n",
       "      <th>Low Income</th>\n",
       "      <td>2021857</td>\n",
       "      <td>2020558</td>\n",
       "      <td>2023416</td>\n",
       "      <td>2035383</td>\n",
       "    </tr>\n",
       "    <tr>\n",
       "      <th>Middle Income</th>\n",
       "      <td>2006892</td>\n",
       "      <td>2036384</td>\n",
       "      <td>2027556</td>\n",
       "      <td>2030375</td>\n",
       "    </tr>\n",
       "    <tr>\n",
       "      <th>Upper Middle Income</th>\n",
       "      <td>2035400</td>\n",
       "      <td>2017824</td>\n",
       "      <td>2017048</td>\n",
       "      <td>2030878</td>\n",
       "    </tr>\n",
       "  </tbody>\n",
       "</table>\n",
       "</div>"
      ],
      "text/plain": [
       "n_dependants                 0        1        2        3\n",
       "income_classification                                    \n",
       "High Income            2033354  2006338  2023123  2038473\n",
       "Low Income             2021857  2020558  2023416  2035383\n",
       "Middle Income          2006892  2036384  2027556  2030375\n",
       "Upper Middle Income    2035400  2017824  2017048  2030878"
      ]
     },
     "execution_count": 57,
     "metadata": {},
     "output_type": "execute_result"
    }
   ],
   "source": [
    "# Check the crosstab created\n",
    "\n",
    "df_ic_nd"
   ]
  },
  {
   "cell_type": "code",
   "execution_count": 58,
   "id": "e37964f0",
   "metadata": {},
   "outputs": [],
   "source": [
    "# Number of Dependants by Age\n",
    "\n",
    "df_ac_nd = pd.crosstab(df['age_classification'], df['n_dependants'], dropna = False)"
   ]
  },
  {
   "cell_type": "code",
   "execution_count": 59,
   "id": "03ec25a5",
   "metadata": {},
   "outputs": [
    {
     "data": {
      "text/html": [
       "<div>\n",
       "<style scoped>\n",
       "    .dataframe tbody tr th:only-of-type {\n",
       "        vertical-align: middle;\n",
       "    }\n",
       "\n",
       "    .dataframe tbody tr th {\n",
       "        vertical-align: top;\n",
       "    }\n",
       "\n",
       "    .dataframe thead th {\n",
       "        text-align: right;\n",
       "    }\n",
       "</style>\n",
       "<table border=\"1\" class=\"dataframe\">\n",
       "  <thead>\n",
       "    <tr style=\"text-align: right;\">\n",
       "      <th>n_dependants</th>\n",
       "      <th>0</th>\n",
       "      <th>1</th>\n",
       "      <th>2</th>\n",
       "      <th>3</th>\n",
       "    </tr>\n",
       "    <tr>\n",
       "      <th>age_classification</th>\n",
       "      <th></th>\n",
       "      <th></th>\n",
       "      <th></th>\n",
       "      <th></th>\n",
       "    </tr>\n",
       "  </thead>\n",
       "  <tbody>\n",
       "    <tr>\n",
       "      <th>Middle Age Adult</th>\n",
       "      <td>2543861</td>\n",
       "      <td>2589598</td>\n",
       "      <td>2489108</td>\n",
       "      <td>2550845</td>\n",
       "    </tr>\n",
       "    <tr>\n",
       "      <th>Senior</th>\n",
       "      <td>2771812</td>\n",
       "      <td>2706509</td>\n",
       "      <td>2806545</td>\n",
       "      <td>2782389</td>\n",
       "    </tr>\n",
       "    <tr>\n",
       "      <th>Young Adult</th>\n",
       "      <td>2781830</td>\n",
       "      <td>2784997</td>\n",
       "      <td>2795490</td>\n",
       "      <td>2801875</td>\n",
       "    </tr>\n",
       "  </tbody>\n",
       "</table>\n",
       "</div>"
      ],
      "text/plain": [
       "n_dependants              0        1        2        3\n",
       "age_classification                                    \n",
       "Middle Age Adult    2543861  2589598  2489108  2550845\n",
       "Senior              2771812  2706509  2806545  2782389\n",
       "Young Adult         2781830  2784997  2795490  2801875"
      ]
     },
     "execution_count": 59,
     "metadata": {},
     "output_type": "execute_result"
    }
   ],
   "source": [
    "# Check the crosstab created\n",
    "\n",
    "df_ac_nd"
   ]
  },
  {
   "cell_type": "markdown",
   "id": "5ad7ce09",
   "metadata": {},
   "source": [
    "## 5.5 - Customer Profile and Marital Status"
   ]
  },
  {
   "cell_type": "code",
   "execution_count": 60,
   "id": "bb5c7592",
   "metadata": {},
   "outputs": [],
   "source": [
    "# Marital Status or Family by Customer Profiling\n",
    "\n",
    "df_cp_family = pd.crosstab(df['income_classification'], df['marital_status'], dropna = False)"
   ]
  },
  {
   "cell_type": "code",
   "execution_count": 61,
   "id": "e76a2ac2",
   "metadata": {},
   "outputs": [
    {
     "data": {
      "text/html": [
       "<div>\n",
       "<style scoped>\n",
       "    .dataframe tbody tr th:only-of-type {\n",
       "        vertical-align: middle;\n",
       "    }\n",
       "\n",
       "    .dataframe tbody tr th {\n",
       "        vertical-align: top;\n",
       "    }\n",
       "\n",
       "    .dataframe thead th {\n",
       "        text-align: right;\n",
       "    }\n",
       "</style>\n",
       "<table border=\"1\" class=\"dataframe\">\n",
       "  <thead>\n",
       "    <tr style=\"text-align: right;\">\n",
       "      <th>marital_status</th>\n",
       "      <th>divorced/widowed</th>\n",
       "      <th>living with parents and siblings</th>\n",
       "      <th>married</th>\n",
       "      <th>single</th>\n",
       "    </tr>\n",
       "    <tr>\n",
       "      <th>income_classification</th>\n",
       "      <th></th>\n",
       "      <th></th>\n",
       "      <th></th>\n",
       "      <th></th>\n",
       "    </tr>\n",
       "  </thead>\n",
       "  <tbody>\n",
       "    <tr>\n",
       "      <th>High Income</th>\n",
       "      <td>1059117</td>\n",
       "      <td>17948</td>\n",
       "      <td>6049986</td>\n",
       "      <td>974237</td>\n",
       "    </tr>\n",
       "    <tr>\n",
       "      <th>Low Income</th>\n",
       "      <td>352814</td>\n",
       "      <td>693454</td>\n",
       "      <td>5385903</td>\n",
       "      <td>1669043</td>\n",
       "    </tr>\n",
       "    <tr>\n",
       "      <th>Middle Income</th>\n",
       "      <td>373721</td>\n",
       "      <td>736798</td>\n",
       "      <td>5357517</td>\n",
       "      <td>1633171</td>\n",
       "    </tr>\n",
       "    <tr>\n",
       "      <th>Upper Middle Income</th>\n",
       "      <td>986160</td>\n",
       "      <td>102403</td>\n",
       "      <td>5963347</td>\n",
       "      <td>1049240</td>\n",
       "    </tr>\n",
       "  </tbody>\n",
       "</table>\n",
       "</div>"
      ],
      "text/plain": [
       "marital_status         divorced/widowed  living with parents and siblings  \\\n",
       "income_classification                                                       \n",
       "High Income                     1059117                             17948   \n",
       "Low Income                       352814                            693454   \n",
       "Middle Income                    373721                            736798   \n",
       "Upper Middle Income              986160                            102403   \n",
       "\n",
       "marital_status         married   single  \n",
       "income_classification                    \n",
       "High Income            6049986   974237  \n",
       "Low Income             5385903  1669043  \n",
       "Middle Income          5357517  1633171  \n",
       "Upper Middle Income    5963347  1049240  "
      ]
     },
     "execution_count": 61,
     "metadata": {},
     "output_type": "execute_result"
    }
   ],
   "source": [
    "# Family Status by Income\n",
    "\n",
    "df_cp_family"
   ]
  },
  {
   "cell_type": "code",
   "execution_count": 62,
   "id": "78048d19",
   "metadata": {},
   "outputs": [
    {
     "data": {
      "text/plain": [
       "marital_status\n",
       "married                             22756753\n",
       "single                               5325691\n",
       "divorced/widowed                     2771812\n",
       "living with parents and siblings     1550603\n",
       "Name: count, dtype: int64"
      ]
     },
     "execution_count": 62,
     "metadata": {},
     "output_type": "execute_result"
    }
   ],
   "source": [
    "# Family Status\n",
    "\n",
    "df['marital_status'].value_counts()"
   ]
  },
  {
   "cell_type": "markdown",
   "id": "0b1fc105",
   "metadata": {},
   "source": [
    "## 5.6 - Economic Status and Expenditure"
   ]
  },
  {
   "cell_type": "code",
   "execution_count": 63,
   "id": "79c2ac4d",
   "metadata": {},
   "outputs": [],
   "source": [
    "# Most commom day of week by Customer Income\n",
    "\n",
    "df_ci_number_orders = pd.crosstab(df['income_classification'], df['order_day_of_week'], dropna = False)"
   ]
  },
  {
   "cell_type": "code",
   "execution_count": 64,
   "id": "fe204e5b",
   "metadata": {},
   "outputs": [
    {
     "data": {
      "text/html": [
       "<div>\n",
       "<style scoped>\n",
       "    .dataframe tbody tr th:only-of-type {\n",
       "        vertical-align: middle;\n",
       "    }\n",
       "\n",
       "    .dataframe tbody tr th {\n",
       "        vertical-align: top;\n",
       "    }\n",
       "\n",
       "    .dataframe thead th {\n",
       "        text-align: right;\n",
       "    }\n",
       "</style>\n",
       "<table border=\"1\" class=\"dataframe\">\n",
       "  <thead>\n",
       "    <tr style=\"text-align: right;\">\n",
       "      <th>order_day_of_week</th>\n",
       "      <th>0</th>\n",
       "      <th>1</th>\n",
       "      <th>2</th>\n",
       "      <th>3</th>\n",
       "      <th>4</th>\n",
       "      <th>5</th>\n",
       "      <th>6</th>\n",
       "    </tr>\n",
       "    <tr>\n",
       "      <th>income_classification</th>\n",
       "      <th></th>\n",
       "      <th></th>\n",
       "      <th></th>\n",
       "      <th></th>\n",
       "      <th></th>\n",
       "      <th></th>\n",
       "      <th></th>\n",
       "    </tr>\n",
       "  </thead>\n",
       "  <tbody>\n",
       "    <tr>\n",
       "      <th>High Income</th>\n",
       "      <td>1586254</td>\n",
       "      <td>1387018</td>\n",
       "      <td>1039659</td>\n",
       "      <td>955936</td>\n",
       "      <td>941715</td>\n",
       "      <td>1037259</td>\n",
       "      <td>1153447</td>\n",
       "    </tr>\n",
       "    <tr>\n",
       "      <th>Low Income</th>\n",
       "      <td>1420044</td>\n",
       "      <td>1498714</td>\n",
       "      <td>1095829</td>\n",
       "      <td>989054</td>\n",
       "      <td>975235</td>\n",
       "      <td>1087107</td>\n",
       "      <td>1035231</td>\n",
       "    </tr>\n",
       "    <tr>\n",
       "      <th>Middle Income</th>\n",
       "      <td>1613300</td>\n",
       "      <td>1388614</td>\n",
       "      <td>1041099</td>\n",
       "      <td>948410</td>\n",
       "      <td>934126</td>\n",
       "      <td>1031092</td>\n",
       "      <td>1144566</td>\n",
       "    </tr>\n",
       "    <tr>\n",
       "      <th>Upper Middle Income</th>\n",
       "      <td>1584584</td>\n",
       "      <td>1385884</td>\n",
       "      <td>1037243</td>\n",
       "      <td>947134</td>\n",
       "      <td>932726</td>\n",
       "      <td>1050333</td>\n",
       "      <td>1163246</td>\n",
       "    </tr>\n",
       "  </tbody>\n",
       "</table>\n",
       "</div>"
      ],
      "text/plain": [
       "order_day_of_week            0        1        2       3       4        5  \\\n",
       "income_classification                                                       \n",
       "High Income            1586254  1387018  1039659  955936  941715  1037259   \n",
       "Low Income             1420044  1498714  1095829  989054  975235  1087107   \n",
       "Middle Income          1613300  1388614  1041099  948410  934126  1031092   \n",
       "Upper Middle Income    1584584  1385884  1037243  947134  932726  1050333   \n",
       "\n",
       "order_day_of_week            6  \n",
       "income_classification           \n",
       "High Income            1153447  \n",
       "Low Income             1035231  \n",
       "Middle Income          1144566  \n",
       "Upper Middle Income    1163246  "
      ]
     },
     "execution_count": 64,
     "metadata": {},
     "output_type": "execute_result"
    }
   ],
   "source": [
    "# Check the crosstab created\n",
    "\n",
    "df_ci_number_orders"
   ]
  },
  {
   "cell_type": "code",
   "execution_count": 65,
   "id": "28d1312e",
   "metadata": {},
   "outputs": [],
   "source": [
    "# Most commom day of week by Customer Age\n",
    "\n",
    "df_ca_number_orders = pd.crosstab(df['age_classification'], df['order_day_of_week'], dropna = False)"
   ]
  },
  {
   "cell_type": "code",
   "execution_count": 66,
   "id": "1e378a0d",
   "metadata": {},
   "outputs": [
    {
     "data": {
      "text/html": [
       "<div>\n",
       "<style scoped>\n",
       "    .dataframe tbody tr th:only-of-type {\n",
       "        vertical-align: middle;\n",
       "    }\n",
       "\n",
       "    .dataframe tbody tr th {\n",
       "        vertical-align: top;\n",
       "    }\n",
       "\n",
       "    .dataframe thead th {\n",
       "        text-align: right;\n",
       "    }\n",
       "</style>\n",
       "<table border=\"1\" class=\"dataframe\">\n",
       "  <thead>\n",
       "    <tr style=\"text-align: right;\">\n",
       "      <th>order_day_of_week</th>\n",
       "      <th>0</th>\n",
       "      <th>1</th>\n",
       "      <th>2</th>\n",
       "      <th>3</th>\n",
       "      <th>4</th>\n",
       "      <th>5</th>\n",
       "      <th>6</th>\n",
       "    </tr>\n",
       "    <tr>\n",
       "      <th>age_classification</th>\n",
       "      <th></th>\n",
       "      <th></th>\n",
       "      <th></th>\n",
       "      <th></th>\n",
       "      <th></th>\n",
       "      <th></th>\n",
       "      <th></th>\n",
       "    </tr>\n",
       "  </thead>\n",
       "  <tbody>\n",
       "    <tr>\n",
       "      <th>Middle Age Adult</th>\n",
       "      <td>1943218</td>\n",
       "      <td>1773683</td>\n",
       "      <td>1332599</td>\n",
       "      <td>1202056</td>\n",
       "      <td>1185068</td>\n",
       "      <td>1315573</td>\n",
       "      <td>1421215</td>\n",
       "    </tr>\n",
       "    <tr>\n",
       "      <th>Senior</th>\n",
       "      <td>2115618</td>\n",
       "      <td>1919392</td>\n",
       "      <td>1438785</td>\n",
       "      <td>1319705</td>\n",
       "      <td>1290424</td>\n",
       "      <td>1440912</td>\n",
       "      <td>1542419</td>\n",
       "    </tr>\n",
       "    <tr>\n",
       "      <th>Young Adult</th>\n",
       "      <td>2145346</td>\n",
       "      <td>1967155</td>\n",
       "      <td>1442446</td>\n",
       "      <td>1318773</td>\n",
       "      <td>1308310</td>\n",
       "      <td>1449306</td>\n",
       "      <td>1532856</td>\n",
       "    </tr>\n",
       "  </tbody>\n",
       "</table>\n",
       "</div>"
      ],
      "text/plain": [
       "order_day_of_week         0        1        2        3        4        5  \\\n",
       "age_classification                                                         \n",
       "Middle Age Adult    1943218  1773683  1332599  1202056  1185068  1315573   \n",
       "Senior              2115618  1919392  1438785  1319705  1290424  1440912   \n",
       "Young Adult         2145346  1967155  1442446  1318773  1308310  1449306   \n",
       "\n",
       "order_day_of_week         6  \n",
       "age_classification           \n",
       "Middle Age Adult    1421215  \n",
       "Senior              1542419  \n",
       "Young Adult         1532856  "
      ]
     },
     "execution_count": 66,
     "metadata": {},
     "output_type": "execute_result"
    }
   ],
   "source": [
    "# Check the crosstab created\n",
    "\n",
    "df_ca_number_orders"
   ]
  },
  {
   "cell_type": "markdown",
   "id": "83624ac6",
   "metadata": {},
   "source": [
    "## 5.7 - Expenditure by Family Status"
   ]
  },
  {
   "cell_type": "code",
   "execution_count": 67,
   "id": "27215925",
   "metadata": {},
   "outputs": [
    {
     "data": {
      "image/png": "[encoded data removed]",
      "text/plain": [
       "<Figure size 640x480 with 1 Axes>"
      ]
     },
     "metadata": {},
     "output_type": "display_data"
    }
   ],
   "source": [
    "# Create a bar chart showing the total spent by family status \n",
    "\n",
    "sum_spent_family = df.groupby('marital_status')['prices'].sum()\n",
    "\n",
    "bar_family_spent = sum_spent_family.plot.barh(color = ['LightGreen','Orange','DarkBlue','Grey'])\n",
    "\n",
    "plt.title('Total Spent by Family Status')\n",
    "plt.xlabel('Total Spent')\n",
    "plt.ylabel('Family Status')\n",
    "\n",
    "bar_family_spent.figure.savefig(os.path.join(path, '04 Analysis','Visualizations', '4.10', 'bar_sum_family_spent.png'))\n"
   ]
  },
  {
   "cell_type": "code",
   "execution_count": 68,
   "id": "19490e51",
   "metadata": {},
   "outputs": [
    {
     "data": {
      "image/png": "[encoded data removed]",
      "text/plain": [
       "<Figure size 640x480 with 1 Axes>"
      ]
     },
     "metadata": {},
     "output_type": "display_data"
    }
   ],
   "source": [
    "# Create a pie chart showing the total spent by family status \n",
    "\n",
    "pie_family_spent = sum_spent_family.plot.pie()\n",
    "\n",
    "plt.title('Total Spent by Family Status')\n",
    "plt.xlabel('')\n",
    "plt.ylabel('')\n",
    "\n",
    "pie_family_spent.figure.savefig(os.path.join(path, '04 Analysis','Visualizations', '4.10', 'pie_sum_family_spent.png'))\n"
   ]
  },
  {
   "cell_type": "markdown",
   "id": "b0d7129d",
   "metadata": {},
   "source": [
    "## 5.8 - Expenditure by Age"
   ]
  },
  {
   "cell_type": "code",
   "execution_count": 120,
   "id": "89dd8b8a",
   "metadata": {},
   "outputs": [
    {
     "data": {
      "text/html": [
       "<div>\n",
       "<style scoped>\n",
       "    .dataframe tbody tr th:only-of-type {\n",
       "        vertical-align: middle;\n",
       "    }\n",
       "\n",
       "    .dataframe tbody tr th {\n",
       "        vertical-align: top;\n",
       "    }\n",
       "\n",
       "    .dataframe thead tr th {\n",
       "        text-align: left;\n",
       "    }\n",
       "\n",
       "    .dataframe thead tr:last-of-type th {\n",
       "        text-align: right;\n",
       "    }\n",
       "</style>\n",
       "<table border=\"1\" class=\"dataframe\">\n",
       "  <thead>\n",
       "    <tr>\n",
       "      <th></th>\n",
       "      <th colspan=\"4\" halign=\"left\">prices</th>\n",
       "    </tr>\n",
       "    <tr>\n",
       "      <th></th>\n",
       "      <th>mean</th>\n",
       "      <th>min</th>\n",
       "      <th>max</th>\n",
       "      <th>sum</th>\n",
       "    </tr>\n",
       "    <tr>\n",
       "      <th>age</th>\n",
       "      <th></th>\n",
       "      <th></th>\n",
       "      <th></th>\n",
       "      <th></th>\n",
       "    </tr>\n",
       "  </thead>\n",
       "  <tbody>\n",
       "    <tr>\n",
       "      <th>18</th>\n",
       "      <td>7.806997</td>\n",
       "      <td>1.0</td>\n",
       "      <td>25.0</td>\n",
       "      <td>3906621.1</td>\n",
       "    </tr>\n",
       "    <tr>\n",
       "      <th>19</th>\n",
       "      <td>7.805773</td>\n",
       "      <td>1.0</td>\n",
       "      <td>25.0</td>\n",
       "      <td>4055505.2</td>\n",
       "    </tr>\n",
       "    <tr>\n",
       "      <th>20</th>\n",
       "      <td>7.773200</td>\n",
       "      <td>1.0</td>\n",
       "      <td>25.0</td>\n",
       "      <td>3908325.9</td>\n",
       "    </tr>\n",
       "    <tr>\n",
       "      <th>21</th>\n",
       "      <td>7.782382</td>\n",
       "      <td>1.0</td>\n",
       "      <td>25.0</td>\n",
       "      <td>3987871.7</td>\n",
       "    </tr>\n",
       "    <tr>\n",
       "      <th>22</th>\n",
       "      <td>7.784471</td>\n",
       "      <td>1.0</td>\n",
       "      <td>25.0</td>\n",
       "      <td>3999497.9</td>\n",
       "    </tr>\n",
       "    <tr>\n",
       "      <th>...</th>\n",
       "      <td>...</td>\n",
       "      <td>...</td>\n",
       "      <td>...</td>\n",
       "      <td>...</td>\n",
       "    </tr>\n",
       "    <tr>\n",
       "      <th>77</th>\n",
       "      <td>7.759185</td>\n",
       "      <td>1.0</td>\n",
       "      <td>25.0</td>\n",
       "      <td>3895188.5</td>\n",
       "    </tr>\n",
       "    <tr>\n",
       "      <th>78</th>\n",
       "      <td>7.807224</td>\n",
       "      <td>1.0</td>\n",
       "      <td>25.0</td>\n",
       "      <td>3866223.3</td>\n",
       "    </tr>\n",
       "    <tr>\n",
       "      <th>79</th>\n",
       "      <td>7.776699</td>\n",
       "      <td>1.0</td>\n",
       "      <td>25.0</td>\n",
       "      <td>4119247.6</td>\n",
       "    </tr>\n",
       "    <tr>\n",
       "      <th>80</th>\n",
       "      <td>7.802058</td>\n",
       "      <td>1.0</td>\n",
       "      <td>25.0</td>\n",
       "      <td>4019347.1</td>\n",
       "    </tr>\n",
       "    <tr>\n",
       "      <th>81</th>\n",
       "      <td>7.802747</td>\n",
       "      <td>1.0</td>\n",
       "      <td>25.0</td>\n",
       "      <td>3973369.3</td>\n",
       "    </tr>\n",
       "  </tbody>\n",
       "</table>\n",
       "<p>64 rows × 4 columns</p>\n",
       "</div>"
      ],
      "text/plain": [
       "       prices                      \n",
       "         mean  min   max        sum\n",
       "age                                \n",
       "18   7.806997  1.0  25.0  3906621.1\n",
       "19   7.805773  1.0  25.0  4055505.2\n",
       "20   7.773200  1.0  25.0  3908325.9\n",
       "21   7.782382  1.0  25.0  3987871.7\n",
       "22   7.784471  1.0  25.0  3999497.9\n",
       "..        ...  ...   ...        ...\n",
       "77   7.759185  1.0  25.0  3895188.5\n",
       "78   7.807224  1.0  25.0  3866223.3\n",
       "79   7.776699  1.0  25.0  4119247.6\n",
       "80   7.802058  1.0  25.0  4019347.1\n",
       "81   7.802747  1.0  25.0  3973369.3\n",
       "\n",
       "[64 rows x 4 columns]"
      ]
     },
     "execution_count": 120,
     "metadata": {},
     "output_type": "execute_result"
    }
   ],
   "source": [
    "# Create a crosstab showing the total spent by age\n",
    "\n",
    "df_spent_age = df.groupby(['age']).agg({'prices': ['mean','min','max','sum']})\n",
    "\n",
    "df_spent_age"
   ]
  },
  {
   "cell_type": "code",
   "execution_count": 121,
   "id": "0dbfe12a",
   "metadata": {},
   "outputs": [],
   "source": [
    "# copy to clipboard\n",
    "\n",
    "df_spent_age.to_clipboard()"
   ]
  },
  {
   "cell_type": "markdown",
   "id": "4a9cc030",
   "metadata": {},
   "source": [
    "## 5.9 - Loyalty Brand \n",
    "\n"
   ]
  },
  {
   "cell_type": "code",
   "execution_count": 71,
   "id": "d474701e",
   "metadata": {},
   "outputs": [
    {
     "data": {
      "image/png": "[encoded data removed]",
      "text/plain": [
       "<Figure size 640x480 with 1 Axes>"
      ]
     },
     "metadata": {},
     "output_type": "display_data"
    }
   ],
   "source": [
    "# Bar Visualization - Loyalty Flag \n",
    "\n",
    "bar_loyalty_brand = df['loyalty_flag'].value_counts().plot.bar(color = ['DarkBlue','DarkGreen','DarkGrey'])"
   ]
  },
  {
   "cell_type": "code",
   "execution_count": 72,
   "id": "c90e6626",
   "metadata": {},
   "outputs": [],
   "source": [
    "# Save Figure\n",
    "\n",
    "bar_loyalty_brand.figure.savefig(os.path.join(path, '04 Analysis','Visualizations', '4.10', 'bar_loyalty_brand.png'))"
   ]
  },
  {
   "cell_type": "code",
   "execution_count": 73,
   "id": "e5e956a0",
   "metadata": {},
   "outputs": [
    {
     "data": {
      "image/png": "[encoded data removed]",
      "text/plain": [
       "<Figure size 640x480 with 1 Axes>"
      ]
     },
     "metadata": {},
     "output_type": "display_data"
    }
   ],
   "source": [
    "# Bar Visualization - Loyalty Flag by Region\n",
    "\n",
    "bar_loyalty_region = df.groupby('region')['loyalty_flag'].value_counts().plot.bar()"
   ]
  },
  {
   "cell_type": "code",
   "execution_count": 74,
   "id": "a91fc181",
   "metadata": {},
   "outputs": [],
   "source": [
    "# Save figure\n",
    "\n",
    "bar_loyalty_region.figure.savefig(os.path.join(path, '04 Analysis','Visualizations', '4.10', 'bar_loyalty_region.png'))"
   ]
  },
  {
   "cell_type": "code",
   "execution_count": 75,
   "id": "e100bc7c",
   "metadata": {},
   "outputs": [],
   "source": [
    "# spending habits by brand loyalty\n",
    "\n",
    "spending_habits_brand = df.groupby('loyalty_flag').agg({'prices': ['mean','min','max','sum']})"
   ]
  },
  {
   "cell_type": "code",
   "execution_count": 76,
   "id": "927592a0",
   "metadata": {},
   "outputs": [],
   "source": [
    "# copy to clipboard \n",
    "\n",
    "spending_habits_brand.to_clipboard()"
   ]
  },
  {
   "cell_type": "code",
   "execution_count": 77,
   "id": "2c40fc1d",
   "metadata": {},
   "outputs": [
    {
     "data": {
      "text/html": [
       "<div>\n",
       "<style scoped>\n",
       "    .dataframe tbody tr th:only-of-type {\n",
       "        vertical-align: middle;\n",
       "    }\n",
       "\n",
       "    .dataframe tbody tr th {\n",
       "        vertical-align: top;\n",
       "    }\n",
       "\n",
       "    .dataframe thead tr th {\n",
       "        text-align: left;\n",
       "    }\n",
       "\n",
       "    .dataframe thead tr:last-of-type th {\n",
       "        text-align: right;\n",
       "    }\n",
       "</style>\n",
       "<table border=\"1\" class=\"dataframe\">\n",
       "  <thead>\n",
       "    <tr>\n",
       "      <th></th>\n",
       "      <th colspan=\"4\" halign=\"left\">prices</th>\n",
       "    </tr>\n",
       "    <tr>\n",
       "      <th></th>\n",
       "      <th>mean</th>\n",
       "      <th>min</th>\n",
       "      <th>max</th>\n",
       "      <th>sum</th>\n",
       "    </tr>\n",
       "    <tr>\n",
       "      <th>loyalty_flag</th>\n",
       "      <th></th>\n",
       "      <th></th>\n",
       "      <th></th>\n",
       "      <th></th>\n",
       "    </tr>\n",
       "  </thead>\n",
       "  <tbody>\n",
       "    <tr>\n",
       "      <th>Loyal Customer</th>\n",
       "      <td>7.773575</td>\n",
       "      <td>1.0</td>\n",
       "      <td>25.0</td>\n",
       "      <td>79933825.2</td>\n",
       "    </tr>\n",
       "    <tr>\n",
       "      <th>New Customer</th>\n",
       "      <td>7.801206</td>\n",
       "      <td>1.0</td>\n",
       "      <td>25.0</td>\n",
       "      <td>48701689.2</td>\n",
       "    </tr>\n",
       "    <tr>\n",
       "      <th>Regular Customer</th>\n",
       "      <td>7.798262</td>\n",
       "      <td>1.0</td>\n",
       "      <td>25.0</td>\n",
       "      <td>123790606.2</td>\n",
       "    </tr>\n",
       "  </tbody>\n",
       "</table>\n",
       "</div>"
      ],
      "text/plain": [
       "                    prices                        \n",
       "                      mean  min   max          sum\n",
       "loyalty_flag                                      \n",
       "Loyal Customer    7.773575  1.0  25.0   79933825.2\n",
       "New Customer      7.801206  1.0  25.0   48701689.2\n",
       "Regular Customer  7.798262  1.0  25.0  123790606.2"
      ]
     },
     "execution_count": 77,
     "metadata": {},
     "output_type": "execute_result"
    }
   ],
   "source": [
    "spending_habits_brand"
   ]
  },
  {
   "cell_type": "markdown",
   "id": "88f58c40-4551-41a4-8e73-29eb860cc1e3",
   "metadata": {},
   "source": [
    "# 06. Distribution of Profiles - Visualization"
   ]
  },
  {
   "cell_type": "code",
   "execution_count": 78,
   "id": "015b8762",
   "metadata": {},
   "outputs": [
    {
     "data": {
      "text/plain": [
       "Text(0, 0.5, 'Age Classification')"
      ]
     },
     "execution_count": 78,
     "metadata": {},
     "output_type": "execute_result"
    },
    {
     "data": {
      "image/png": "[encoded data removed]",
      "text/plain": [
       "<Figure size 640x480 with 1 Axes>"
      ]
     },
     "metadata": {},
     "output_type": "display_data"
    }
   ],
   "source": [
    "# create an horizontal bar to show the proportion of clients according to the Customer Profiling created.\n",
    "\n",
    "barh_profile_by_age = df['age_classification'].value_counts().plot.barh()\n",
    "\n",
    "plt.title('Instacart - Customer Profiling by Age')\n",
    "plt.xlabel('User Count by Million')\n",
    "plt.ylabel('Age Classification')"
   ]
  },
  {
   "cell_type": "code",
   "execution_count": 79,
   "id": "aa9d25e6",
   "metadata": {},
   "outputs": [],
   "source": [
    "# Save Figure\n",
    "\n",
    "barh_profile_by_age.figure.savefig(os.path.join(path, '04 Analysis','Visualizations', '4.10', 'barh_profile_user_age.png'))"
   ]
  },
  {
   "cell_type": "markdown",
   "id": "e84410ce-cdba-437d-aea7-cb53f5a5720a",
   "metadata": {},
   "source": [
    "# 07. Customer-profile level by usage frequency and expenditure"
   ]
  },
  {
   "cell_type": "markdown",
   "id": "ade0ec5d",
   "metadata": {},
   "source": [
    "### 7.1 Customer-profile by expenditure"
   ]
  },
  {
   "cell_type": "code",
   "execution_count": 82,
   "id": "c7451163-20ab-4c81-b6e9-5bdd6ecad98e",
   "metadata": {},
   "outputs": [],
   "source": [
    "# create a dataframe with the expenditure by customer profile\n",
    "\n",
    "expenditure_cp = df.groupby('customer_profiling').agg({'prices':['max','mean','min']})"
   ]
  },
  {
   "cell_type": "code",
   "execution_count": 83,
   "id": "3bd05c5f-8ea9-4249-ae0a-be55cd457983",
   "metadata": {},
   "outputs": [
    {
     "data": {
      "text/html": [
       "<div>\n",
       "<style scoped>\n",
       "    .dataframe tbody tr th:only-of-type {\n",
       "        vertical-align: middle;\n",
       "    }\n",
       "\n",
       "    .dataframe tbody tr th {\n",
       "        vertical-align: top;\n",
       "    }\n",
       "\n",
       "    .dataframe thead tr th {\n",
       "        text-align: left;\n",
       "    }\n",
       "\n",
       "    .dataframe thead tr:last-of-type th {\n",
       "        text-align: right;\n",
       "    }\n",
       "</style>\n",
       "<table border=\"1\" class=\"dataframe\">\n",
       "  <thead>\n",
       "    <tr>\n",
       "      <th></th>\n",
       "      <th colspan=\"3\" halign=\"left\">prices</th>\n",
       "    </tr>\n",
       "    <tr>\n",
       "      <th></th>\n",
       "      <th>max</th>\n",
       "      <th>mean</th>\n",
       "      <th>min</th>\n",
       "    </tr>\n",
       "    <tr>\n",
       "      <th>customer_profiling</th>\n",
       "      <th></th>\n",
       "      <th></th>\n",
       "      <th></th>\n",
       "    </tr>\n",
       "  </thead>\n",
       "  <tbody>\n",
       "    <tr>\n",
       "      <th>Middle Age Adult - High Income</th>\n",
       "      <td>25.0</td>\n",
       "      <td>7.959906</td>\n",
       "      <td>1.0</td>\n",
       "    </tr>\n",
       "    <tr>\n",
       "      <th>Middle Age Adult - Low Income</th>\n",
       "      <td>25.0</td>\n",
       "      <td>6.817741</td>\n",
       "      <td>1.0</td>\n",
       "    </tr>\n",
       "    <tr>\n",
       "      <th>Middle Age Adult - Middle Income</th>\n",
       "      <td>25.0</td>\n",
       "      <td>7.950467</td>\n",
       "      <td>1.0</td>\n",
       "    </tr>\n",
       "    <tr>\n",
       "      <th>Middle Age Adult - Upper Middle Income</th>\n",
       "      <td>25.0</td>\n",
       "      <td>7.970727</td>\n",
       "      <td>1.0</td>\n",
       "    </tr>\n",
       "    <tr>\n",
       "      <th>Senior - High Income</th>\n",
       "      <td>25.0</td>\n",
       "      <td>7.959136</td>\n",
       "      <td>1.0</td>\n",
       "    </tr>\n",
       "    <tr>\n",
       "      <th>Senior - Low Income</th>\n",
       "      <td>25.0</td>\n",
       "      <td>6.694798</td>\n",
       "      <td>1.0</td>\n",
       "    </tr>\n",
       "    <tr>\n",
       "      <th>Senior - Middle Income</th>\n",
       "      <td>25.0</td>\n",
       "      <td>7.958896</td>\n",
       "      <td>1.0</td>\n",
       "    </tr>\n",
       "    <tr>\n",
       "      <th>Senior - Upper Middle Income</th>\n",
       "      <td>25.0</td>\n",
       "      <td>7.963127</td>\n",
       "      <td>1.0</td>\n",
       "    </tr>\n",
       "    <tr>\n",
       "      <th>Young Adult - High Income</th>\n",
       "      <td>25.0</td>\n",
       "      <td>7.805624</td>\n",
       "      <td>1.0</td>\n",
       "    </tr>\n",
       "    <tr>\n",
       "      <th>Young Adult - Low Income</th>\n",
       "      <td>25.0</td>\n",
       "      <td>7.587542</td>\n",
       "      <td>1.0</td>\n",
       "    </tr>\n",
       "    <tr>\n",
       "      <th>Young Adult - Middle Income</th>\n",
       "      <td>25.0</td>\n",
       "      <td>7.959071</td>\n",
       "      <td>1.0</td>\n",
       "    </tr>\n",
       "    <tr>\n",
       "      <th>Young Adult - Upper Middle Income</th>\n",
       "      <td>25.0</td>\n",
       "      <td>7.951528</td>\n",
       "      <td>1.0</td>\n",
       "    </tr>\n",
       "  </tbody>\n",
       "</table>\n",
       "</div>"
      ],
      "text/plain": [
       "                                       prices               \n",
       "                                          max      mean  min\n",
       "customer_profiling                                          \n",
       "Middle Age Adult - High Income           25.0  7.959906  1.0\n",
       "Middle Age Adult - Low Income            25.0  6.817741  1.0\n",
       "Middle Age Adult - Middle Income         25.0  7.950467  1.0\n",
       "Middle Age Adult - Upper Middle Income   25.0  7.970727  1.0\n",
       "Senior - High Income                     25.0  7.959136  1.0\n",
       "Senior - Low Income                      25.0  6.694798  1.0\n",
       "Senior - Middle Income                   25.0  7.958896  1.0\n",
       "Senior - Upper Middle Income             25.0  7.963127  1.0\n",
       "Young Adult - High Income                25.0  7.805624  1.0\n",
       "Young Adult - Low Income                 25.0  7.587542  1.0\n",
       "Young Adult - Middle Income              25.0  7.959071  1.0\n",
       "Young Adult - Upper Middle Income        25.0  7.951528  1.0"
      ]
     },
     "execution_count": 83,
     "metadata": {},
     "output_type": "execute_result"
    }
   ],
   "source": [
    "# check if it was created accordingly \n",
    "\n",
    "expenditure_cp"
   ]
  },
  {
   "cell_type": "markdown",
   "id": "c8f9bff5",
   "metadata": {},
   "source": [
    "## 7.2 Customer-profile by frequency"
   ]
  },
  {
   "cell_type": "code",
   "execution_count": 84,
   "id": "d7bd5a2e-5e31-406e-a78f-e0fa0b81ccf7",
   "metadata": {},
   "outputs": [],
   "source": [
    "# create a dataframe with the frequency by customer profile\n",
    "\n",
    "frequency_cp = df.groupby('customer_profiling').agg({'days_since_prior_order': ['mean','min','max']})"
   ]
  },
  {
   "cell_type": "code",
   "execution_count": 85,
   "id": "c2f4b96b",
   "metadata": {},
   "outputs": [
    {
     "data": {
      "text/html": [
       "<div>\n",
       "<style scoped>\n",
       "    .dataframe tbody tr th:only-of-type {\n",
       "        vertical-align: middle;\n",
       "    }\n",
       "\n",
       "    .dataframe tbody tr th {\n",
       "        vertical-align: top;\n",
       "    }\n",
       "\n",
       "    .dataframe thead tr th {\n",
       "        text-align: left;\n",
       "    }\n",
       "\n",
       "    .dataframe thead tr:last-of-type th {\n",
       "        text-align: right;\n",
       "    }\n",
       "</style>\n",
       "<table border=\"1\" class=\"dataframe\">\n",
       "  <thead>\n",
       "    <tr>\n",
       "      <th></th>\n",
       "      <th colspan=\"3\" halign=\"left\">days_since_prior_order</th>\n",
       "    </tr>\n",
       "    <tr>\n",
       "      <th></th>\n",
       "      <th>mean</th>\n",
       "      <th>min</th>\n",
       "      <th>max</th>\n",
       "    </tr>\n",
       "    <tr>\n",
       "      <th>customer_profiling</th>\n",
       "      <th></th>\n",
       "      <th></th>\n",
       "      <th></th>\n",
       "    </tr>\n",
       "  </thead>\n",
       "  <tbody>\n",
       "    <tr>\n",
       "      <th>Middle Age Adult - High Income</th>\n",
       "      <td>11.097548</td>\n",
       "      <td>0.0</td>\n",
       "      <td>30.0</td>\n",
       "    </tr>\n",
       "    <tr>\n",
       "      <th>Middle Age Adult - Low Income</th>\n",
       "      <td>11.474728</td>\n",
       "      <td>0.0</td>\n",
       "      <td>30.0</td>\n",
       "    </tr>\n",
       "    <tr>\n",
       "      <th>Middle Age Adult - Middle Income</th>\n",
       "      <td>11.025145</td>\n",
       "      <td>0.0</td>\n",
       "      <td>30.0</td>\n",
       "    </tr>\n",
       "    <tr>\n",
       "      <th>Middle Age Adult - Upper Middle Income</th>\n",
       "      <td>11.007920</td>\n",
       "      <td>0.0</td>\n",
       "      <td>30.0</td>\n",
       "    </tr>\n",
       "    <tr>\n",
       "      <th>Senior - High Income</th>\n",
       "      <td>10.976317</td>\n",
       "      <td>0.0</td>\n",
       "      <td>30.0</td>\n",
       "    </tr>\n",
       "    <tr>\n",
       "      <th>Senior - Low Income</th>\n",
       "      <td>11.591552</td>\n",
       "      <td>0.0</td>\n",
       "      <td>30.0</td>\n",
       "    </tr>\n",
       "    <tr>\n",
       "      <th>Senior - Middle Income</th>\n",
       "      <td>10.955673</td>\n",
       "      <td>0.0</td>\n",
       "      <td>30.0</td>\n",
       "    </tr>\n",
       "    <tr>\n",
       "      <th>Senior - Upper Middle Income</th>\n",
       "      <td>11.088397</td>\n",
       "      <td>0.0</td>\n",
       "      <td>30.0</td>\n",
       "    </tr>\n",
       "    <tr>\n",
       "      <th>Young Adult - High Income</th>\n",
       "      <td>10.395068</td>\n",
       "      <td>0.0</td>\n",
       "      <td>30.0</td>\n",
       "    </tr>\n",
       "    <tr>\n",
       "      <th>Young Adult - Low Income</th>\n",
       "      <td>11.202763</td>\n",
       "      <td>0.0</td>\n",
       "      <td>30.0</td>\n",
       "    </tr>\n",
       "    <tr>\n",
       "      <th>Young Adult - Middle Income</th>\n",
       "      <td>11.001945</td>\n",
       "      <td>0.0</td>\n",
       "      <td>30.0</td>\n",
       "    </tr>\n",
       "    <tr>\n",
       "      <th>Young Adult - Upper Middle Income</th>\n",
       "      <td>11.310353</td>\n",
       "      <td>0.0</td>\n",
       "      <td>30.0</td>\n",
       "    </tr>\n",
       "  </tbody>\n",
       "</table>\n",
       "</div>"
      ],
      "text/plain": [
       "                                       days_since_prior_order           \n",
       "                                                         mean  min   max\n",
       "customer_profiling                                                      \n",
       "Middle Age Adult - High Income                      11.097548  0.0  30.0\n",
       "Middle Age Adult - Low Income                       11.474728  0.0  30.0\n",
       "Middle Age Adult - Middle Income                    11.025145  0.0  30.0\n",
       "Middle Age Adult - Upper Middle Income              11.007920  0.0  30.0\n",
       "Senior - High Income                                10.976317  0.0  30.0\n",
       "Senior - Low Income                                 11.591552  0.0  30.0\n",
       "Senior - Middle Income                              10.955673  0.0  30.0\n",
       "Senior - Upper Middle Income                        11.088397  0.0  30.0\n",
       "Young Adult - High Income                           10.395068  0.0  30.0\n",
       "Young Adult - Low Income                            11.202763  0.0  30.0\n",
       "Young Adult - Middle Income                         11.001945  0.0  30.0\n",
       "Young Adult - Upper Middle Income                   11.310353  0.0  30.0"
      ]
     },
     "execution_count": 85,
     "metadata": {},
     "output_type": "execute_result"
    }
   ],
   "source": [
    "# check if it was created accordingly \n",
    "\n",
    "frequency_cp"
   ]
  },
  {
   "cell_type": "markdown",
   "id": "bfa098bf-9acb-456f-82c7-b2917467ae27",
   "metadata": {},
   "source": [
    "# 08. Customer Profile"
   ]
  },
  {
   "cell_type": "code",
   "execution_count": 86,
   "id": "ad141f07",
   "metadata": {},
   "outputs": [
    {
     "data": {
      "text/html": [
       "<div>\n",
       "<style scoped>\n",
       "    .dataframe tbody tr th:only-of-type {\n",
       "        vertical-align: middle;\n",
       "    }\n",
       "\n",
       "    .dataframe tbody tr th {\n",
       "        vertical-align: top;\n",
       "    }\n",
       "\n",
       "    .dataframe thead th {\n",
       "        text-align: right;\n",
       "    }\n",
       "</style>\n",
       "<table border=\"1\" class=\"dataframe\">\n",
       "  <thead>\n",
       "    <tr style=\"text-align: right;\">\n",
       "      <th>region</th>\n",
       "      <th>Midwest</th>\n",
       "      <th>Northeast</th>\n",
       "      <th>South</th>\n",
       "      <th>West</th>\n",
       "    </tr>\n",
       "    <tr>\n",
       "      <th>customer_profiling</th>\n",
       "      <th></th>\n",
       "      <th></th>\n",
       "      <th></th>\n",
       "      <th></th>\n",
       "    </tr>\n",
       "  </thead>\n",
       "  <tbody>\n",
       "    <tr>\n",
       "      <th>Middle Age Adult - High Income</th>\n",
       "      <td>902906</td>\n",
       "      <td>649352</td>\n",
       "      <td>1206220</td>\n",
       "      <td>962335</td>\n",
       "    </tr>\n",
       "    <tr>\n",
       "      <th>Middle Age Adult - Low Income</th>\n",
       "      <td>353606</td>\n",
       "      <td>263968</td>\n",
       "      <td>498406</td>\n",
       "      <td>399684</td>\n",
       "    </tr>\n",
       "    <tr>\n",
       "      <th>Middle Age Adult - Middle Income</th>\n",
       "      <td>334641</td>\n",
       "      <td>256102</td>\n",
       "      <td>513941</td>\n",
       "      <td>372199</td>\n",
       "    </tr>\n",
       "    <tr>\n",
       "      <th>Middle Age Adult - Upper Middle Income</th>\n",
       "      <td>835505</td>\n",
       "      <td>620857</td>\n",
       "      <td>1111992</td>\n",
       "      <td>891698</td>\n",
       "    </tr>\n",
       "    <tr>\n",
       "      <th>Senior - High Income</th>\n",
       "      <td>996451</td>\n",
       "      <td>769246</td>\n",
       "      <td>1413060</td>\n",
       "      <td>1075526</td>\n",
       "    </tr>\n",
       "    <tr>\n",
       "      <th>Senior - Low Income</th>\n",
       "      <td>329781</td>\n",
       "      <td>261311</td>\n",
       "      <td>485446</td>\n",
       "      <td>369241</td>\n",
       "    </tr>\n",
       "    <tr>\n",
       "      <th>Senior - Middle Income</th>\n",
       "      <td>326278</td>\n",
       "      <td>254799</td>\n",
       "      <td>506258</td>\n",
       "      <td>392569</td>\n",
       "    </tr>\n",
       "    <tr>\n",
       "      <th>Senior - Upper Middle Income</th>\n",
       "      <td>917028</td>\n",
       "      <td>687747</td>\n",
       "      <td>1280819</td>\n",
       "      <td>1001695</td>\n",
       "    </tr>\n",
       "    <tr>\n",
       "      <th>Young Adult - High Income</th>\n",
       "      <td>28686</td>\n",
       "      <td>22258</td>\n",
       "      <td>46975</td>\n",
       "      <td>28273</td>\n",
       "    </tr>\n",
       "    <tr>\n",
       "      <th>Young Adult - Low Income</th>\n",
       "      <td>1193046</td>\n",
       "      <td>903816</td>\n",
       "      <td>1732313</td>\n",
       "      <td>1310596</td>\n",
       "    </tr>\n",
       "    <tr>\n",
       "      <th>Young Adult - Middle Income</th>\n",
       "      <td>1197039</td>\n",
       "      <td>909593</td>\n",
       "      <td>1739080</td>\n",
       "      <td>1298708</td>\n",
       "    </tr>\n",
       "    <tr>\n",
       "      <th>Young Adult - Upper Middle Income</th>\n",
       "      <td>182358</td>\n",
       "      <td>123687</td>\n",
       "      <td>257375</td>\n",
       "      <td>190389</td>\n",
       "    </tr>\n",
       "  </tbody>\n",
       "</table>\n",
       "</div>"
      ],
      "text/plain": [
       "region                                  Midwest  Northeast    South     West\n",
       "customer_profiling                                                          \n",
       "Middle Age Adult - High Income           902906     649352  1206220   962335\n",
       "Middle Age Adult - Low Income            353606     263968   498406   399684\n",
       "Middle Age Adult - Middle Income         334641     256102   513941   372199\n",
       "Middle Age Adult - Upper Middle Income   835505     620857  1111992   891698\n",
       "Senior - High Income                     996451     769246  1413060  1075526\n",
       "Senior - Low Income                      329781     261311   485446   369241\n",
       "Senior - Middle Income                   326278     254799   506258   392569\n",
       "Senior - Upper Middle Income             917028     687747  1280819  1001695\n",
       "Young Adult - High Income                 28686      22258    46975    28273\n",
       "Young Adult - Low Income                1193046     903816  1732313  1310596\n",
       "Young Adult - Middle Income             1197039     909593  1739080  1298708\n",
       "Young Adult - Upper Middle Income        182358     123687   257375   190389"
      ]
     },
     "execution_count": 86,
     "metadata": {},
     "output_type": "execute_result"
    }
   ],
   "source": [
    "# Compare Customer Profile by Region \n",
    "\n",
    "region_cp = pd.crosstab(df['customer_profiling'], df['region'],dropna = False)\n",
    "\n",
    "region_cp"
   ]
  },
  {
   "cell_type": "code",
   "execution_count": 87,
   "id": "3b1599e7",
   "metadata": {},
   "outputs": [],
   "source": [
    "region_cp.to_clipboard()"
   ]
  },
  {
   "cell_type": "code",
   "execution_count": 88,
   "id": "dab1b24a",
   "metadata": {},
   "outputs": [],
   "source": [
    "# Filter Total of High Spender by Region  \n",
    "\n",
    "high_spenders = df[df['spending_flag'] == 'High Spender'].groupby('region').size()"
   ]
  },
  {
   "cell_type": "code",
   "execution_count": 89,
   "id": "f5c98c70",
   "metadata": {},
   "outputs": [],
   "source": [
    "# Filter Total of Low Spender by Region  \n",
    "\n",
    "low_spenders =  df[df['spending_flag'] == 'Low Spender'].groupby('region').size()\n"
   ]
  },
  {
   "cell_type": "code",
   "execution_count": 90,
   "id": "9d310d28",
   "metadata": {},
   "outputs": [
    {
     "data": {
      "text/plain": [
       "region\n",
       "Midwest      29265\n",
       "Northeast    18642\n",
       "South        40579\n",
       "West         31242\n",
       "dtype: int64"
      ]
     },
     "execution_count": 90,
     "metadata": {},
     "output_type": "execute_result"
    }
   ],
   "source": [
    "# Check frequency High Spender by Region\n",
    "\n",
    "high_spenders"
   ]
  },
  {
   "cell_type": "code",
   "execution_count": 91,
   "id": "bd2963d7-04ba-4093-84d0-ab84a7a755d4",
   "metadata": {},
   "outputs": [
    {
     "data": {
      "text/plain": [
       "Text(0, 0.5, 'Customer Count')"
      ]
     },
     "execution_count": 91,
     "metadata": {},
     "output_type": "execute_result"
    },
    {
     "data": {
      "image/png": "[encoded data removed]",
      "text/plain": [
       "<Figure size 640x480 with 1 Axes>"
      ]
     },
     "metadata": {},
     "output_type": "display_data"
    }
   ],
   "source": [
    "# Visualization - High Spender by Region Habits \n",
    "\n",
    "bar_high_spenders = high_spenders.plot.bar(color = ['Red','Orange','DarkBlue','DarkGreen'])\n",
    "plt.title('High Spenders by US Region')\n",
    "plt.xlabel('Region')\n",
    "plt.ylabel('Customer Count')"
   ]
  },
  {
   "cell_type": "code",
   "execution_count": 92,
   "id": "b736e91f",
   "metadata": {},
   "outputs": [],
   "source": [
    "# Save figure\n",
    "\n",
    "bar_high_spenders.figure.savefig(os.path.join(path, '04 Analysis','Visualizations', '4.10', 'bar_high_spenders_region.png'))"
   ]
  },
  {
   "cell_type": "code",
   "execution_count": 93,
   "id": "e7eb0b5a",
   "metadata": {},
   "outputs": [
    {
     "data": {
      "text/plain": [
       "region\n",
       "Midwest       7568060\n",
       "Northeast     5704094\n",
       "South        10751306\n",
       "West          8261671\n",
       "dtype: int64"
      ]
     },
     "execution_count": 93,
     "metadata": {},
     "output_type": "execute_result"
    }
   ],
   "source": [
    "# Check frequency Low Spender by Region\n",
    "\n",
    "low_spenders"
   ]
  },
  {
   "cell_type": "code",
   "execution_count": 94,
   "id": "0b396a2c",
   "metadata": {},
   "outputs": [
    {
     "data": {
      "text/plain": [
       "Text(0, 0.5, 'Customer Count by 10 Million')"
      ]
     },
     "execution_count": 94,
     "metadata": {},
     "output_type": "execute_result"
    },
    {
     "data": {
      "image/png": "[encoded data removed]",
      "text/plain": [
       "<Figure size 640x480 with 1 Axes>"
      ]
     },
     "metadata": {},
     "output_type": "display_data"
    }
   ],
   "source": [
    "# Visualization - Low Spender by Region\n",
    "\n",
    "bar_low_spenders = low_spenders.plot.bar(color = ['Red','Orange','DarkBlue','DarkGreen'])\n",
    "plt.title('Low Spenders by US Region')\n",
    "plt.xlabel('Region')\n",
    "plt.ylabel('Customer Count by 10 Million')\n"
   ]
  },
  {
   "cell_type": "code",
   "execution_count": 95,
   "id": "4b15acb9",
   "metadata": {},
   "outputs": [],
   "source": [
    "# Save figure\n",
    "\n",
    "bar_low_spenders.figure.savefig(os.path.join(path, '04 Analysis','Visualizations', '4.10', 'bar_low_spenders_region.png'))"
   ]
  },
  {
   "cell_type": "code",
   "execution_count": 96,
   "id": "c5c65d33",
   "metadata": {},
   "outputs": [],
   "source": [
    "# region prior order \n",
    "\n",
    "region_prior_order = df.groupby(['region']).agg({'days_since_prior_order': ['mean','min','max']})"
   ]
  },
  {
   "cell_type": "code",
   "execution_count": 97,
   "id": "48eebb87",
   "metadata": {},
   "outputs": [],
   "source": [
    "# copy to clipboard\n",
    "\n",
    "region_prior_order.to_clipboard()"
   ]
  },
  {
   "cell_type": "code",
   "execution_count": 98,
   "id": "cc23ef99",
   "metadata": {},
   "outputs": [],
   "source": [
    "# region expenditure\n",
    "\n",
    "region_price_total = df.groupby(['region']).agg({'prices': ['mean','min','max','sum']})\n",
    "\n",
    "region_price_total.to_clipboard()"
   ]
  },
  {
   "cell_type": "code",
   "execution_count": 99,
   "id": "0387eb4c",
   "metadata": {},
   "outputs": [
    {
     "data": {
      "image/png": "[encoded data removed]",
      "text/plain": [
       "<Figure size 640x480 with 1 Axes>"
      ]
     },
     "metadata": {},
     "output_type": "display_data"
    }
   ],
   "source": [
    "# Bar Visualization - Top 10 Most sold product - All Regions\n",
    "\n",
    "barh_top10_products = df['product_name'].value_counts().head(10).plot.barh()\n",
    "plt.title('TOP 10 Products')\n",
    "plt.xlabel('Value Counts')\n",
    "plt.ylabel('Products Name')\n",
    "\n",
    "\n",
    "barh_top10_products.figure.savefig(os.path.join(path, '04 Analysis','Visualizations', '4.10', 'bar_top10_products.png'))"
   ]
  },
  {
   "cell_type": "markdown",
   "id": "dc1bdf3b",
   "metadata": {},
   "source": [
    "###### Overview: After comparing the customer profiling with each region and departments, it is possible to set the following link betweem them: \n",
    "\n",
    "###### All regions showed the same result regarding the top 10 departments, which were identical, following the exact same order, as can be confirmed below. The only region that presented a difference it was the Northeast, which presented a higher consume of 'deli' instead of 'canned goods', changing the position between the 8 and 9 spot. \n",
    "\n",
    "###### Another link is regarding the top 10 products consumed, which were, in general, similar, with minor changes depending on the region.\n",
    "\n",
    "###### The last link that I was able to notice was the proportion of High and Low spenders. According to the visualization, which can be found in the next question, the region that present the highest number of High Spender and Low Spender, follow the same order, which is: South, West, Midwest and Northeast. This shows that both regions, South and West, have the highest representativity in the instacart business and, maybe, ads for the Northeast and Midwest region could increase their share in the future. \n",
    "\n",
    "###### It is important to consider that each region has a huge difference in data, so, even though the information mentioned were similar, there is a great difference between the frequency of each one of them."
   ]
  },
  {
   "cell_type": "code",
   "execution_count": 100,
   "id": "8028ca19",
   "metadata": {},
   "outputs": [
    {
     "data": {
      "text/plain": [
       "department_id\n",
       "4     9479291\n",
       "16    5398747\n",
       "19    2887550\n",
       "7     2688123\n",
       "1     2234743\n",
       "13    1875369\n",
       "3     1172428\n",
       "15    1068058\n",
       "20    1051249\n",
       "9      866627\n",
       "Name: count, dtype: int64"
      ]
     },
     "execution_count": 100,
     "metadata": {},
     "output_type": "execute_result"
    }
   ],
   "source": [
    "# TOP 10 Departments - All Regions\n",
    "\n",
    "df['department_id'].value_counts(dropna= False).head(10)"
   ]
  },
  {
   "cell_type": "code",
   "execution_count": 101,
   "id": "9702d46d",
   "metadata": {},
   "outputs": [],
   "source": [
    "# Define data dictionary\n",
    "\n",
    "df_department.rename(columns = {'Unnamed: 0':'department_id'}, inplace = True)\n",
    "\n",
    "df_department.set_index('department_id', inplace= True)\n",
    "data_dict = df_department.to_dict('index') "
   ]
  },
  {
   "cell_type": "code",
   "execution_count": 102,
   "id": "b25e2d0f",
   "metadata": {},
   "outputs": [
    {
     "name": "stdout",
     "output_type": "stream",
     "text": [
      "id 4 - {'department': 'produce'}\n",
      "id 16 - {'department': 'dairy eggs'}\n",
      "id 19 - {'department': 'snacks'}\n",
      "id 7 - {'department': 'beverages'}\n",
      "id 1 - {'department': 'frozen'}\n",
      "id 13 - {'department': 'pantry'}\n",
      "id 3 - {'department': 'bakery'}\n",
      "id 20 - {'department': 'deli'}\n",
      "id 15 - {'department': 'canned goods'}\n",
      "id 9 - {'department': 'dry goods pasta'}\n"
     ]
    }
   ],
   "source": [
    "# Transform the department_id into their name \n",
    "\n",
    "print ('id 4 -',data_dict.get(4)),\n",
    "print ('id 16 -',data_dict.get(16)),\n",
    "print ('id 19 -',data_dict.get(19)),\n",
    "print ('id 7 -',data_dict.get(7)),\n",
    "print ('id 1 -',data_dict.get(1)),\n",
    "print ('id 13 -',data_dict.get(13)),\n",
    "print ('id 3 -',data_dict.get(3)),\n",
    "print ('id 20 -',data_dict.get(20)),\n",
    "print ('id 15 -',data_dict.get(15)),\n",
    "print ('id 9 -',data_dict.get(9))"
   ]
  },
  {
   "cell_type": "code",
   "execution_count": 103,
   "id": "6bf941ef",
   "metadata": {},
   "outputs": [
    {
     "data": {
      "image/png": "[encoded data removed]",
      "text/plain": [
       "<Figure size 640x480 with 1 Axes>"
      ]
     },
     "metadata": {},
     "output_type": "display_data"
    }
   ],
   "source": [
    "barh_top10_department = df['department_id'].value_counts().head(10).plot.barh()\n",
    "\n",
    "plt.title('TOP 10 Departments')\n",
    "plt.xlabel('Frequency in Million')\n",
    "plt.ylabel('Department ID')\n",
    "barh_top10_department.figure.savefig(os.path.join(path, '04 Analysis','Visualizations', '4.10', 'bar_top10_department.png'))"
   ]
  },
  {
   "cell_type": "markdown",
   "id": "6b4525b0",
   "metadata": {},
   "source": [
    "# 09. Export Data"
   ]
  },
  {
   "cell_type": "code",
   "execution_count": 104,
   "id": "aac6e3c0",
   "metadata": {},
   "outputs": [],
   "source": [
    "df.to_pickle(os.path.join(path, '02 Data', 'prepared_data', 'final_order_prods_customer.pkl'))"
   ]
  }
 ],
 "metadata": {
  "kernelspec": {
   "display_name": "Python 3 (ipykernel)",
   "language": "python",
   "name": "python3"
  },
  "language_info": {
   "codemirror_mode": {
    "name": "ipython",
    "version": 3
   },
   "file_extension": ".py",
   "mimetype": "text/x-python",
   "name": "python",
   "nbconvert_exporter": "python",
   "pygments_lexer": "ipython3",
   "version": "3.11.7"
  }
 },
 "nbformat": 4,
 "nbformat_minor": 5
}
