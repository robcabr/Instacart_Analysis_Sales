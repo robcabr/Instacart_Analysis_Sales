{
 "cells": [
  {
   "cell_type": "markdown",
   "id": "04ae8d30",
   "metadata": {},
   "source": [
    "# 4.2: Importing Libraries and Python Data Types"
   ]
  },
  {
   "cell_type": "markdown",
   "id": "272a2274",
   "metadata": {},
   "source": [
    "## This script includes the following points:\n",
    "\n",
    "1. Importing Libraries\n",
    "2. Python Data Types\n"
   ]
  },
  {
   "cell_type": "markdown",
   "id": "f0d3165e-d705-4c1b-9b43-411620b57e57",
   "metadata": {},
   "source": [
    "## 01. Importing Libraries"
   ]
  },
  {
   "cell_type": "code",
   "execution_count": 1,
   "id": "23ca3835-72f5-4816-8025-04626097f57c",
   "metadata": {},
   "outputs": [],
   "source": [
    "# import libraries\n",
    "import pandas as pd\n",
    "import numpy as np\n",
    "import os"
   ]
  },
  {
   "cell_type": "markdown",
   "id": "2a3f7091-ecba-480d-b607-a28aa91a531d",
   "metadata": {},
   "source": [
    "## 02. Python Data Types"
   ]
  },
  {
   "cell_type": "code",
   "execution_count": 7,
   "id": "39ac0a65-f574-4d66-b09a-0bc6e9c3f459",
   "metadata": {},
   "outputs": [
    {
     "data": {
      "text/plain": [
       "100"
      ]
     },
     "execution_count": 7,
     "metadata": {},
     "output_type": "execute_result"
    }
   ],
   "source": [
    "# 3 differents ways of reaching a result of 100\n",
    "x = 25 \n",
    "y = 75\n",
    "x+y "
   ]
  },
  {
   "cell_type": "code",
   "execution_count": 8,
   "id": "9c824609-6542-41b5-9efe-32d0721d3e40",
   "metadata": {},
   "outputs": [
    {
     "data": {
      "text/plain": [
       "100"
      ]
     },
     "execution_count": 8,
     "metadata": {},
     "output_type": "execute_result"
    }
   ],
   "source": [
    "# 3 differents ways of reaching a result of 100\n",
    "x* 4"
   ]
  },
  {
   "cell_type": "code",
   "execution_count": 9,
   "id": "a7c3247a-f381-4ba7-bc82-b3f2e0f328b0",
   "metadata": {},
   "outputs": [
    {
     "data": {
      "text/plain": [
       "100"
      ]
     },
     "execution_count": 9,
     "metadata": {},
     "output_type": "execute_result"
    }
   ],
   "source": [
    "# 3 differents ways of reaching a result of 100\n",
    "\n",
    "(y * 4) - (x *8)"
   ]
  },
  {
   "cell_type": "code",
   "execution_count": 12,
   "id": "5839af39-1429-4339-b9b9-908434acd2c2",
   "metadata": {},
   "outputs": [
    {
     "name": "stdout",
     "output_type": "stream",
     "text": [
      "4.448979591836735\n"
     ]
    }
   ],
   "source": [
    "# Code 2 floating-point variables and divide them by each other\n",
    "\n",
    "a = 5.450\n",
    "b = 1.225\n",
    "\n",
    "c = a/b\n",
    "print(c)"
   ]
  },
  {
   "cell_type": "code",
   "execution_count": 14,
   "id": "9e479652-1ae7-4c24-a3c1-3040c5b492fb",
   "metadata": {},
   "outputs": [
    {
     "data": {
      "text/plain": [
       "'sunflower'"
      ]
     },
     "execution_count": 14,
     "metadata": {},
     "output_type": "execute_result"
    }
   ],
   "source": [
    "# Construct a short word made of two separated strings\n",
    "\n",
    "d = 'sun'\n",
    "e = 'flower'\n",
    "\n",
    "d+e"
   ]
  },
  {
   "cell_type": "code",
   "execution_count": 23,
   "id": "9d3c5992-a30b-440f-b1ba-3caf07cced6d",
   "metadata": {},
   "outputs": [
    {
     "data": {
      "text/plain": [
       "'Hello, Marley!Are you at home?'"
      ]
     },
     "execution_count": 23,
     "metadata": {},
     "output_type": "execute_result"
    }
   ],
   "source": [
    "# Construct 2 shorts sentences made of separate strings\n",
    "f = 'Hello, '\n",
    "g = 'Marley!'\n",
    "h = 'Are you at home?'\n",
    "\n",
    "f+g+h"
   ]
  },
  {
   "cell_type": "code",
   "execution_count": 25,
   "id": "d10665ac-1281-487a-a284-4ad326bacf5d",
   "metadata": {},
   "outputs": [
    {
     "name": "stdout",
     "output_type": "stream",
     "text": [
      "potatopotatopotatopotatopotatopotatopotatopotatopotatopotatopotatopotatopotatopotatopotatopotatopotatopotatopotatopotatopotatopotatopotatopotatopotatopotatopotatopotatopotatopotatopotatopotatopotatopotatopotatopotatopotatopotatopotatopotatopotatopotatopotatopotatopotatopotatopotatopotatopotatopotatopotatopotatopotatopotatopotatopotatopotatopotatopotatopotatopotatopotatopotatopotatopotatopotatopotatopotatopotatopotatopotatopotatopotatopotatopotatopotatopotatopotatopotatopotatopotatopotatopotatopotatopotatopotatopotatopotatopotatopotatopotatopotatopotatopotatopotatopotatopotatopotatopotatopotato\n"
     ]
    }
   ],
   "source": [
    "# Bonus task\n",
    "\n",
    "bonus = 'potato'*100\n",
    "print(bonus)"
   ]
  }
 ],
 "metadata": {
  "kernelspec": {
   "display_name": "Python 3 (ipykernel)",
   "language": "python",
   "name": "python3"
  },
  "language_info": {
   "codemirror_mode": {
    "name": "ipython",
    "version": 3
   },
   "file_extension": ".py",
   "mimetype": "text/x-python",
   "name": "python",
   "nbconvert_exporter": "python",
   "pygments_lexer": "ipython3",
   "version": "3.11.7"
  }
 },
 "nbformat": 4,
 "nbformat_minor": 5
}
