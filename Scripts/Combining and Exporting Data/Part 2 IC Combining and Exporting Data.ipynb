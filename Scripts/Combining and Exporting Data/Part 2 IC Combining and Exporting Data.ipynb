{
 "cells": [
  {
   "cell_type": "markdown",
   "id": "d493e924-5358-4649-8095-cfe751ef4f64",
   "metadata": {},
   "source": [
    "# Part 2 - Combining and Exporting Data"
   ]
  },
  {
   "cell_type": "markdown",
   "id": "34b1ac0a",
   "metadata": {},
   "source": [
    "## This script includes the following points:\n",
    "\n",
    "1. Import data \n",
    "2. Check Shape\n",
    "3. Combining Orders-Products and Products dataframe\n",
    "4. Confirming results - Merge flag\n",
    "5. Exporting Dataframe\n"
   ]
  },
  {
   "cell_type": "markdown",
   "id": "5c9103e8-4e94-40b6-aeff-406c3d4e2573",
   "metadata": {},
   "source": [
    "## 01- Import Data (Pickle format)"
   ]
  },
  {
   "cell_type": "code",
   "execution_count": 36,
   "id": "4903323f-273a-4fdd-9a2a-86b329d27145",
   "metadata": {},
   "outputs": [],
   "source": [
    "## import libraries\n",
    "\n",
    "import pandas as pd\n",
    "import numpy as np\n",
    "import os"
   ]
  },
  {
   "cell_type": "code",
   "execution_count": 37,
   "id": "5bdc2637-cabd-406e-83ae-f8d79fa84bde",
   "metadata": {},
   "outputs": [],
   "source": [
    "# defining a path\n",
    "\n",
    "path = r'/Users/robson/Desktop/CareerFoundry/Data Immersion/Achivement 4/19-04-2024 Instacart Basket Analysis'"
   ]
  },
  {
   "cell_type": "code",
   "execution_count": 38,
   "id": "4bb7197f-36dc-4a74-8ce8-c02ce7ccb0bd",
   "metadata": {},
   "outputs": [],
   "source": [
    "# importing the dataframe in the pickle\n",
    "\n",
    "df_merged_large = pd.read_pickle(os.path.join(path, '02 Data', 'prepared_data', 'orders_products_combined.pkl'))"
   ]
  },
  {
   "cell_type": "code",
   "execution_count": 39,
   "id": "e3036deb-fb16-4ba5-be9c-cfd930d58cfb",
   "metadata": {},
   "outputs": [],
   "source": [
    "# importing product data set\n",
    "\n",
    "df_prods = pd.read_csv(os.path.join(path, '02 Data', 'prepared_data', 'products_checked.csv'), index_col = False)"
   ]
  },
  {
   "cell_type": "markdown",
   "id": "bc967d4e-7622-4091-beaa-0d855dfa5f12",
   "metadata": {},
   "source": [
    "## 02. Check Shape"
   ]
  },
  {
   "cell_type": "code",
   "execution_count": 40,
   "id": "e56bd306-9b52-471a-9483-8d0fbecbe772",
   "metadata": {},
   "outputs": [
    {
     "data": {
      "text/plain": [
       "(49672, 6)"
      ]
     },
     "execution_count": 40,
     "metadata": {},
     "output_type": "execute_result"
    }
   ],
   "source": [
    "# check number of rows and columns \n",
    "\n",
    "df_prods.shape"
   ]
  },
  {
   "cell_type": "code",
   "execution_count": 41,
   "id": "3f3525ce-d208-4cec-8d4e-f5136cb2a97f",
   "metadata": {},
   "outputs": [
    {
     "data": {
      "text/plain": [
       "(32434489, 11)"
      ]
     },
     "execution_count": 41,
     "metadata": {},
     "output_type": "execute_result"
    }
   ],
   "source": [
    "# check shape to see if it is the same I imported\n",
    "\n",
    "df_merged_large.shape"
   ]
  },
  {
   "cell_type": "markdown",
   "id": "8e5eff24-3301-44ca-ad96-8c221517c98a",
   "metadata": {},
   "source": [
    "## 03. Combining Orders-Products and Products dataframe"
   ]
  },
  {
   "cell_type": "code",
   "execution_count": 42,
   "id": "52828db7-dfcb-40bc-8fe9-37346fddb709",
   "metadata": {},
   "outputs": [
    {
     "data": {
      "text/plain": [
       "<bound method NDFrame.describe of           order_id  user_id  order_number  order_day_of_week  \\\n",
       "0          2539329        1             1                  2   \n",
       "1          2539329        1             1                  2   \n",
       "2          2539329        1             1                  2   \n",
       "3          2539329        1             1                  2   \n",
       "4          2539329        1             1                  2   \n",
       "...            ...      ...           ...                ...   \n",
       "32434484   2977660   206209            13                  1   \n",
       "32434485   2977660   206209            13                  1   \n",
       "32434486   2977660   206209            13                  1   \n",
       "32434487   2977660   206209            13                  1   \n",
       "32434488   2977660   206209            13                  1   \n",
       "\n",
       "          order_hour_of_day  days_since_prior_order  first_order  product_id  \\\n",
       "0                         8                     NaN         True         196   \n",
       "1                         8                     NaN         True       14084   \n",
       "2                         8                     NaN         True       12427   \n",
       "3                         8                     NaN         True       26088   \n",
       "4                         8                     NaN         True       26405   \n",
       "...                     ...                     ...          ...         ...   \n",
       "32434484                 12                     7.0        False       14197   \n",
       "32434485                 12                     7.0        False       38730   \n",
       "32434486                 12                     7.0        False       31477   \n",
       "32434487                 12                     7.0        False        6567   \n",
       "32434488                 12                     7.0        False       22920   \n",
       "\n",
       "          add_to_cart_order  reordered _merge  \n",
       "0                         1          0   both  \n",
       "1                         2          0   both  \n",
       "2                         3          0   both  \n",
       "3                         4          0   both  \n",
       "4                         5          0   both  \n",
       "...                     ...        ...    ...  \n",
       "32434484                  5          1   both  \n",
       "32434485                  6          0   both  \n",
       "32434486                  7          0   both  \n",
       "32434487                  8          0   both  \n",
       "32434488                  9          0   both  \n",
       "\n",
       "[32434489 rows x 11 columns]>"
      ]
     },
     "execution_count": 42,
     "metadata": {},
     "output_type": "execute_result"
    }
   ],
   "source": [
    "# checking for a commom column between both df's\n",
    "\n",
    "df_merged_large.describe"
   ]
  },
  {
   "cell_type": "code",
   "execution_count": 43,
   "id": "faa0422a-9990-43ff-9831-f0df28fa1163",
   "metadata": {},
   "outputs": [],
   "source": [
    "# I was getting a error, so I added this step. So, to be able to merge again and apply the indicator arguments, it is necessary to drop the \"_merge\" column\n",
    "\n",
    "df_merged_large.drop(columns = ['_merge'], inplace = True)"
   ]
  },
  {
   "cell_type": "code",
   "execution_count": 44,
   "id": "259ec66f-46ed-49da-9e94-336984fafcd2",
   "metadata": {},
   "outputs": [
    {
     "data": {
      "text/plain": [
       "324344890"
      ]
     },
     "execution_count": 44,
     "metadata": {},
     "output_type": "execute_result"
    }
   ],
   "source": [
    "# number of elements\n",
    "\n",
    "df_merged_large.size"
   ]
  },
  {
   "cell_type": "code",
   "execution_count": 45,
   "id": "57c3a422-9e46-49fa-a4d0-46c324a93756",
   "metadata": {},
   "outputs": [
    {
     "data": {
      "text/plain": [
       "<bound method NDFrame.describe of        Unnamed: 0  product_id  \\\n",
       "0               0           1   \n",
       "1               1           2   \n",
       "2               2           3   \n",
       "3               3           4   \n",
       "4               4           5   \n",
       "...           ...         ...   \n",
       "49667       49688       49684   \n",
       "49668       49689       49685   \n",
       "49669       49690       49686   \n",
       "49670       49691       49687   \n",
       "49671       49692       49688   \n",
       "\n",
       "                                            product_name  aisle_id  \\\n",
       "0                             Chocolate Sandwich Cookies        61   \n",
       "1                                       All-Seasons Salt       104   \n",
       "2                   Robust Golden Unsweetened Oolong Tea        94   \n",
       "3      Smart Ones Classic Favorites Mini Rigatoni Wit...        38   \n",
       "4                              Green Chile Anytime Sauce         5   \n",
       "...                                                  ...       ...   \n",
       "49667          Vodka, Triple Distilled, Twist of Vanilla       124   \n",
       "49668                 En Croute Roast Hazelnut Cranberry        42   \n",
       "49669                                   Artisan Baguette       112   \n",
       "49670         Smartblend Healthy Metabolism Dry Cat Food        41   \n",
       "49671                             Fresh Foaming Cleanser        73   \n",
       "\n",
       "       department_id  prices  \n",
       "0                 19     5.8  \n",
       "1                 13     9.3  \n",
       "2                  7     4.5  \n",
       "3                  1    10.5  \n",
       "4                 13     4.3  \n",
       "...              ...     ...  \n",
       "49667              5     5.3  \n",
       "49668              1     3.1  \n",
       "49669              3     7.8  \n",
       "49670              8     4.7  \n",
       "49671             11    13.5  \n",
       "\n",
       "[49672 rows x 6 columns]>"
      ]
     },
     "execution_count": 45,
     "metadata": {},
     "output_type": "execute_result"
    }
   ],
   "source": [
    "# checking for a commom column between both df's\n",
    "\n",
    "df_prods.describe"
   ]
  },
  {
   "cell_type": "code",
   "execution_count": 46,
   "id": "c4d9a115-8e07-4c53-8719-ee2e7b4ba2aa",
   "metadata": {},
   "outputs": [],
   "source": [
    "# drop 'Unnamed: 0' column\n",
    "\n",
    "df_prods.drop(columns = ['Unnamed: 0'], inplace = True)"
   ]
  },
  {
   "cell_type": "code",
   "execution_count": 47,
   "id": "2f9c123d-dd9a-42f1-a9b9-08cd72db0b53",
   "metadata": {},
   "outputs": [],
   "source": [
    "# merging both dataframes on product_id(commom column)\n",
    "\n",
    "df_ords_prods_combined = df_merged_large.merge(df_prods, on = 'product_id', indicator = True)"
   ]
  },
  {
   "cell_type": "markdown",
   "id": "39bbe67b-6e24-44c8-8d6e-2d0b8551530f",
   "metadata": {},
   "source": [
    "## 04. Confirming results - Merge flag "
   ]
  },
  {
   "cell_type": "code",
   "execution_count": 48,
   "id": "42ec4089-bd24-4da7-8cd1-ce386460fbbb",
   "metadata": {},
   "outputs": [
    {
     "data": {
      "text/plain": [
       "(32404859, 15)"
      ]
     },
     "execution_count": 48,
     "metadata": {},
     "output_type": "execute_result"
    }
   ],
   "source": [
    "# check number of columns and rows - combined dataframe\n",
    "\n",
    "df_ords_prods_combined.shape"
   ]
  },
  {
   "cell_type": "code",
   "execution_count": 49,
   "id": "d10040ca-3121-4efc-8928-08e129117c5a",
   "metadata": {},
   "outputs": [
    {
     "data": {
      "text/plain": [
       "_merge\n",
       "both          32404859\n",
       "left_only            0\n",
       "right_only           0\n",
       "Name: count, dtype: int64"
      ]
     },
     "execution_count": 49,
     "metadata": {},
     "output_type": "execute_result"
    }
   ],
   "source": [
    "# Value counts to check if all the values are merged (\"both\")\n",
    "\n",
    "df_ords_prods_combined['_merge'].value_counts()"
   ]
  },
  {
   "cell_type": "markdown",
   "id": "883b9e39-4902-4473-ba96-87e2db9cce02",
   "metadata": {},
   "source": [
    "## 05. Exporting Dataframe"
   ]
  },
  {
   "cell_type": "code",
   "execution_count": 50,
   "id": "32d62bc8-19d8-4114-a1f8-47744ea82e24",
   "metadata": {},
   "outputs": [],
   "source": [
    "# Considering the dataframe size, we will export it in pickle format\n",
    "\n",
    "df_ords_prods_combined.to_pickle(os.path.join(path, '02 Data', 'prepared_data', 'ords_prods_merge.pkl'))"
   ]
  }
 ],
 "metadata": {
  "kernelspec": {
   "display_name": "Python 3 (ipykernel)",
   "language": "python",
   "name": "python3"
  },
  "language_info": {
   "codemirror_mode": {
    "name": "ipython",
    "version": 3
   },
   "file_extension": ".py",
   "mimetype": "text/x-python",
   "name": "python",
   "nbconvert_exporter": "python",
   "pygments_lexer": "ipython3",
   "version": "3.11.7"
  }
 },
 "nbformat": 4,
 "nbformat_minor": 5
}
